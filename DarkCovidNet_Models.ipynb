{
  "nbformat": 4,
  "nbformat_minor": 0,
  "metadata": {
    "colab": {
      "name": "DarkCovidNet_Models.ipynb",
      "provenance": [],
      "collapsed_sections": []
    },
    "kernelspec": {
      "name": "python3",
      "display_name": "Python 3"
    },
    "language_info": {
      "name": "python"
    },
    "accelerator": "GPU"
  },
  "cells": [
    {
      "cell_type": "markdown",
      "metadata": {
        "id": "Cr6VHxw7NyaI"
      },
      "source": [
        "This notebook is written by Brittaney Everitt 10211957\n",
        "\n"
      ]
    },
    {
      "cell_type": "markdown",
      "metadata": {
        "id": "4JKd7fYasoR1"
      },
      "source": [
        "The DarkCovidNet code comes from the author's Github at: https://github.com/muhammedtalo/COVID-19\n",
        "\n",
        "Ozturk T, Talo M, Yildirim EA, Baloglu UB, Yildirim O, Acharya UR. Automated detection of COVID-19 cases using deep neural networks with X-ray images. Computers in biology and medicine. 2020 Jun 1;121:103792."
      ]
    },
    {
      "cell_type": "code",
      "metadata": {
        "id": "gG8KfUqMNqbA"
      },
      "source": [
        "#from Ozturk T, Talo M, Yildirim EA, Baloglu UB, Yildirim O, Acharya UR. Automated detection of COVID-19 cases using deep neural networks with X-ray images. Computers in biology and medicine. 2020 Jun 1;121:103792.\n",
        "%matplotlib inline\n",
        "%reload_ext autoreload\n",
        "%autoreload 2"
      ],
      "execution_count": null,
      "outputs": []
    },
    {
      "cell_type": "code",
      "metadata": {
        "id": "4mGkdE1Cn9kg"
      },
      "source": [
        "#ignore warnings\n",
        "#not in original code\n",
        "import warnings\n",
        "warnings.filterwarnings('ignore')"
      ],
      "execution_count": null,
      "outputs": []
    },
    {
      "cell_type": "code",
      "metadata": {
        "id": "N6K63QARlDtV"
      },
      "source": [
        "#from Ozturk T, Talo M, Yildirim EA, Baloglu UB, Yildirim O, Acharya UR. Automated detection of COVID-19 cases using deep neural networks with X-ray images. Computers in biology and medicine. 2020 Jun 1;121:103792.\n",
        "from fastai.imports import *\n",
        "from fastai.vision import *"
      ],
      "execution_count": null,
      "outputs": []
    },
    {
      "cell_type": "code",
      "metadata": {
        "id": "JmCZ14GtL7Hi",
        "colab": {
          "base_uri": "https://localhost:8080/"
        },
        "outputId": "514940c4-c7a2-44db-e150-54d51ba4d456"
      },
      "source": [
        "#I do this so that I can load the images in the next cell \n",
        "#This cell was not in the original code \n",
        "from google.colab import drive \n",
        "drive.mount('/content/drive/') "
      ],
      "execution_count": null,
      "outputs": [
        {
          "output_type": "stream",
          "text": [
            "Mounted at /content/drive/\n"
          ],
          "name": "stdout"
        }
      ]
    },
    {
      "cell_type": "markdown",
      "metadata": {
        "id": "m4NgEeTXOJxu"
      },
      "source": [
        "# Load Data In \n"
      ]
    },
    {
      "cell_type": "markdown",
      "metadata": {
        "id": "AYV5-iorW8Z5"
      },
      "source": [
        "Create Training and Validation Split\n"
      ]
    },
    {
      "cell_type": "code",
      "metadata": {
        "colab": {
          "base_uri": "https://localhost:8080/"
        },
        "id": "vRdAXKhBXDv4",
        "outputId": "8636586f-0601-44c0-a684-3d9f5e5f2969"
      },
      "source": [
        "#split files into training set and validation set\n",
        "#this cell is not in the original code\n",
        "\n",
        "!pip install split-folders"
      ],
      "execution_count": null,
      "outputs": [
        {
          "output_type": "stream",
          "text": [
            "Collecting split-folders\n",
            "  Downloading https://files.pythonhosted.org/packages/b8/5f/3c2b2f7ea5e047c8cdc3bb00ae582c5438fcdbbedcc23b3cc1c2c7aae642/split_folders-0.4.3-py3-none-any.whl\n",
            "Installing collected packages: split-folders\n",
            "Successfully installed split-folders-0.4.3\n"
          ],
          "name": "stdout"
        }
      ]
    },
    {
      "cell_type": "code",
      "metadata": {
        "id": "oTdJSZs3XuL_",
        "colab": {
          "base_uri": "https://localhost:8080/"
        },
        "outputId": "a6cb206f-6b39-4158-adda-93812f71386d"
      },
      "source": [
        "import splitfolders \n",
        "\n",
        "# not in original code\n",
        "# split into training and validation set 80% training and 20% validation like in the paper\n",
        "# seed makes the spit reproducible \n",
        "# classes are evenly distributed in the split \n",
        "# creates the \"imagenet style dataset\"\n",
        "# this only has to be run once \n",
        "splitfolders.ratio(\"drive/MyDrive/COVID-19/X-Ray_Image_DataSet\", output=\"output\", seed=1337, ratio=(.8, .2), group_prefix=None) # default values\n"
      ],
      "execution_count": null,
      "outputs": [
        {
          "output_type": "stream",
          "text": [
            "Copying files: 1502 files [07:13,  3.46 files/s]\n"
          ],
          "name": "stderr"
        }
      ]
    },
    {
      "cell_type": "code",
      "metadata": {
        "id": "_CurmPO4coDK"
      },
      "source": [
        "#This code saves the above file output as a zip file \n",
        "!zip -r /content/output.zip /content/output"
      ],
      "execution_count": null,
      "outputs": []
    },
    {
      "cell_type": "code",
      "metadata": {
        "colab": {
          "base_uri": "https://localhost:8080/"
        },
        "id": "UGGA22hqOQw-",
        "outputId": "1c9c98f6-c2b9-44fd-85d7-2aaeae9efcc9"
      },
      "source": [
        "#Path to the saved X-ray dataset (from the cell above) that is split into train and validation sets \n",
        "#This code is from Ozturk T, Talo M, Yildirim EA, Baloglu UB, Yildirim O, Acharya UR. Automated detection of COVID-19 cases using deep neural networks with X-ray images. Computers in biology and medicine. 2020 Jun 1;121:103792.\n",
        "path = Path('drive/MyDrive/COVID-19/content_SplitData/output') \n",
        "print(path.ls())"
      ],
      "execution_count": null,
      "outputs": [
        {
          "output_type": "stream",
          "text": [
            "[PosixPath('drive/MyDrive/COVID-19/content_SplitData/output/val'), PosixPath('drive/MyDrive/COVID-19/content_SplitData/output/train')]\n"
          ],
          "name": "stdout"
        }
      ]
    },
    {
      "cell_type": "code",
      "metadata": {
        "id": "3NnYiZLEOoyO"
      },
      "source": [
        "#This code is from Ozturk T, Talo M, Yildirim EA, Baloglu UB, Yildirim O, Acharya UR. Automated detection of COVID-19 cases using deep neural networks with X-ray images. Computers in biology and medicine. 2020 Jun 1;121:103792.\n",
        "\n",
        "#Random seed makes the split the same every time for reproducibility \n",
        "np.random.seed(41)\n",
        "\n",
        "#ImageDataBunch is a class that loads in data\n",
        "#Data is formated in the \"Imagenet-style dataset\" a train folder with subfolders of each class and the same for validation \n",
        "#path is the path to the data, with folders labelled 'train' and 'val'\n",
        "#size of the images is size=(256,256)\n",
        "#batch size is 32 \n",
        "#normalizes the data based on the mean and stand deviation using the Standard score, using predfeind stats\n",
        "#get_transforms() is a list of transforms that can be used, but it is empty\n",
        "#num_workers is workers that are retrieving the data\n",
        "data = ImageDataBunch.from_folder(path, train=\"train\", valid =\"val\",\n",
        "        ds_tfms=get_transforms(), size=(256,256), bs=32, num_workers=4).normalize()"
      ],
      "execution_count": null,
      "outputs": []
    },
    {
      "cell_type": "code",
      "metadata": {
        "colab": {
          "base_uri": "https://localhost:8080/"
        },
        "id": "2xGLl0w5deSU",
        "outputId": "8ad3d5d0-49c2-47e4-c254-b1a93e7fae18"
      },
      "source": [
        "#This code is from Ozturk T, Talo M, Yildirim EA, Baloglu UB, Yildirim O, Acharya UR. Automated detection of COVID-19 cases using deep neural networks with X-ray images. Computers in biology and medicine. 2020 Jun 1;121:103792.\n",
        "\n",
        "#display number of classes, number of images in training and validation sets to make sure all data is correctly loaded in \n",
        "data.classes, data.c, len(data.train_ds), len(data.valid_ds)"
      ],
      "execution_count": null,
      "outputs": [
        {
          "output_type": "execute_result",
          "data": {
            "text/plain": [
              "(['Covid-19', 'No_findings', 'Pneumonia'], 3, 1201, 301)"
            ]
          },
          "metadata": {
            "tags": []
          },
          "execution_count": 7
        }
      ]
    },
    {
      "cell_type": "code",
      "metadata": {
        "colab": {
          "base_uri": "https://localhost:8080/"
        },
        "id": "7p9rsM3ge1wb",
        "outputId": "6d11627f-996a-4257-ff25-f9514f975822"
      },
      "source": [
        "#This code is from Ozturk T, Talo M, Yildirim EA, Baloglu UB, Yildirim O, Acharya UR. Automated detection of COVID-19 cases using deep neural networks with X-ray images. Computers in biology and medicine. 2020 Jun 1;121:103792.\n",
        "\n",
        "#display the number of images in the split \n",
        "print(\"Number of examples in training:\", len(data.train_ds))\n",
        "print(\"Number of examples in validation:\", len(data.valid_ds))"
      ],
      "execution_count": null,
      "outputs": [
        {
          "output_type": "stream",
          "text": [
            "Number of examples in training: 1201\n",
            "Number of examples in validation: 301\n"
          ],
          "name": "stdout"
        }
      ]
    },
    {
      "cell_type": "code",
      "metadata": {
        "colab": {
          "base_uri": "https://localhost:8080/"
        },
        "id": "hTbTCjKJfAMD",
        "outputId": "44deaa6f-82f2-46b9-a7d7-b3af1c11a1d6"
      },
      "source": [
        "#This code is from Ozturk T, Talo M, Yildirim EA, Baloglu UB, Yildirim O, Acharya UR. Automated detection of COVID-19 cases using deep neural networks with X-ray images. Computers in biology and medicine. 2020 Jun 1;121:103792.\n",
        "\n",
        "#get data from one batch\n",
        "xb,yb = data.one_batch()\n",
        "#display the shape \n",
        "xb.shape,yb.shape"
      ],
      "execution_count": null,
      "outputs": [
        {
          "output_type": "execute_result",
          "data": {
            "text/plain": [
              "(torch.Size([32, 3, 256, 256]), torch.Size([32]))"
            ]
          },
          "metadata": {
            "tags": []
          },
          "execution_count": 9
        }
      ]
    },
    {
      "cell_type": "code",
      "metadata": {
        "colab": {
          "base_uri": "https://localhost:8080/",
          "height": 729
        },
        "id": "Tbz9v68HhMUy",
        "outputId": "926162ac-c287-43e3-b89e-90a81668ae55"
      },
      "source": [
        "#This code is from Ozturk T, Talo M, Yildirim EA, Baloglu UB, Yildirim O, Acharya UR. Automated detection of COVID-19 cases using deep neural networks with X-ray images. Computers in biology and medicine. 2020 Jun 1;121:103792.\n",
        "\n",
        "#show images from the batch with labels\n",
        "data.show_batch(rows=3, figsize=(10,10))"
      ],
      "execution_count": null,
      "outputs": [
        {
          "output_type": "display_data",
          "data": {
            "image/png": "[encoded data removed]",
            "text/plain": [
              "<Figure size 720x720 with 9 Axes>"
            ]
          },
          "metadata": {
            "tags": [],
            "needs_background": "light"
          }
        }
      ]
    },
    {
      "cell_type": "markdown",
      "metadata": {
        "id": "5tH7vwd2hdir"
      },
      "source": [
        "# Model 1: DarkCovidNet \n",
        "- This model usees the balanced dataset (about 500 COVID-19 images)\n"
      ]
    },
    {
      "cell_type": "code",
      "metadata": {
        "id": "Ir5251qrhmx-"
      },
      "source": [
        "#This code is from Ozturk T, Talo M, Yildirim EA, Baloglu UB, Yildirim O, Acharya UR. Automated detection of COVID-19 cases using deep neural networks with X-ray images. Computers in biology and medicine. 2020 Jun 1;121:103792.\n",
        "\n",
        "#This function defines the DarkCovidNet block \n",
        "def conv_block(ni, nf, size=3, stride=1):\n",
        "    for_pad = lambda s: s if s > 2 else 3\n",
        "    return nn.Sequential(\n",
        "        nn.Conv2d(ni, nf, kernel_size=size, stride=stride,\n",
        "                  padding=(for_pad(size) - 1)//2, bias=False), \n",
        "        #batch normalization over mini-batches with learnable parameters \n",
        "        nn.BatchNorm2d(nf),\n",
        "        #angle of netative slope is 0.1 and the operation is done in place \n",
        "        nn.LeakyReLU(negative_slope=0.1, inplace=True)  \n",
        "    )"
      ],
      "execution_count": null,
      "outputs": []
    },
    {
      "cell_type": "code",
      "metadata": {
        "id": "kf5wLo3mhoBt"
      },
      "source": [
        "#This code is from Ozturk T, Talo M, Yildirim EA, Baloglu UB, Yildirim O, Acharya UR. Automated detection of COVID-19 cases using deep neural networks with X-ray images. Computers in biology and medicine. 2020 Jun 1;121:103792.\n",
        "\n",
        "#This function defines three DarkCovidNet blocks in a row \n",
        "def triple_conv(ni, nf):\n",
        "    return nn.Sequential(\n",
        "        conv_block(ni, nf),\n",
        "        conv_block(nf, ni, size=1),  \n",
        "        conv_block(ni, nf)\n",
        "    )"
      ],
      "execution_count": null,
      "outputs": []
    },
    {
      "cell_type": "code",
      "metadata": {
        "id": "-6UuoKafhrPO"
      },
      "source": [
        "#This code is from Ozturk T, Talo M, Yildirim EA, Baloglu UB, Yildirim O, Acharya UR. Automated detection of COVID-19 cases using deep neural networks with X-ray images. Computers in biology and medicine. 2020 Jun 1;121:103792.\n",
        "\n",
        "#This function defines the max pooling hyperparameters to use\n",
        "def maxpooling():\n",
        "    #pool size of 2, stride of 2\n",
        "    return nn.MaxPool2d(2, stride=2)"
      ],
      "execution_count": null,
      "outputs": []
    },
    {
      "cell_type": "code",
      "metadata": {
        "id": "s7VnSdfyhtom"
      },
      "source": [
        "#This code is from Ozturk T, Talo M, Yildirim EA, Baloglu UB, Yildirim O, Acharya UR. Automated detection of COVID-19 cases using deep neural networks with X-ray images. Computers in biology and medicine. 2020 Jun 1;121:103792.\n",
        "\n",
        "#This function sets up the sequential CNN DarkCovidNet architecture \n",
        "model = nn.Sequential(\n",
        "    conv_block(3, 8),\n",
        "    maxpooling(),\n",
        "    conv_block(8, 16),\n",
        "    maxpooling(),\n",
        "    triple_conv(16, 32),\n",
        "    maxpooling(),\n",
        "    triple_conv(32, 64),\n",
        "    maxpooling(),\n",
        "    triple_conv(64, 128),\n",
        "    maxpooling(),\n",
        "    triple_conv(128, 256),\n",
        "    conv_block(256, 128, size=1),\n",
        "    conv_block(128, 256),\n",
        "    conv_layer(256, 3),\n",
        "    Flatten(),\n",
        "    nn.Linear(507, 3),\n",
        ")"
      ],
      "execution_count": null,
      "outputs": []
    },
    {
      "cell_type": "code",
      "metadata": {
        "id": "Ao83ZxauhwNP"
      },
      "source": [
        "#This code is from Ozturk T, Talo M, Yildirim EA, Baloglu UB, Yildirim O, Acharya UR. Automated detection of COVID-19 cases using deep neural networks with X-ray images. Computers in biology and medicine. 2020 Jun 1;121:103792.\n",
        "\n",
        "#This sets up the model specificying the data to use, model, cross entropy loss and metrics to visualize\n",
        "learn = Learner(data, model, loss_func = nn.CrossEntropyLoss(), metrics=accuracy)"
      ],
      "execution_count": null,
      "outputs": []
    },
    {
      "cell_type": "code",
      "metadata": {
        "colab": {
          "base_uri": "https://localhost:8080/"
        },
        "id": "t6XwqBt6hx3o",
        "outputId": "a067d639-ea65-483f-b07d-f5b6be75a609"
      },
      "source": [
        "#This code is from Ozturk T, Talo M, Yildirim EA, Baloglu UB, Yildirim O, Acharya UR. Automated detection of COVID-19 cases using deep neural networks with X-ray images. Computers in biology and medicine. 2020 Jun 1;121:103792.\n",
        "\n",
        "#Print the overall architecture of the model and visualize the shape of each output \n",
        "print(learn.summary())"
      ],
      "execution_count": null,
      "outputs": [
        {
          "output_type": "stream",
          "text": [
            "Sequential\n",
            "======================================================================\n",
            "Layer (type)         Output Shape         Param #    Trainable \n",
            "======================================================================\n",
            "Conv2d               [8, 256, 256]        216        True      \n",
            "______________________________________________________________________\n",
            "BatchNorm2d          [8, 256, 256]        16         True      \n",
            "______________________________________________________________________\n",
            "LeakyReLU            [8, 256, 256]        0          False     \n",
            "______________________________________________________________________\n",
            "MaxPool2d            [8, 128, 128]        0          False     \n",
            "______________________________________________________________________\n",
            "Conv2d               [16, 128, 128]       1,152      True      \n",
            "______________________________________________________________________\n",
            "BatchNorm2d          [16, 128, 128]       32         True      \n",
            "______________________________________________________________________\n",
            "LeakyReLU            [16, 128, 128]       0          False     \n",
            "______________________________________________________________________\n",
            "MaxPool2d            [16, 64, 64]         0          False     \n",
            "______________________________________________________________________\n",
            "Conv2d               [32, 64, 64]         4,608      True      \n",
            "______________________________________________________________________\n",
            "BatchNorm2d          [32, 64, 64]         64         True      \n",
            "______________________________________________________________________\n",
            "LeakyReLU            [32, 64, 64]         0          False     \n",
            "______________________________________________________________________\n",
            "Conv2d               [16, 66, 66]         512        True      \n",
            "______________________________________________________________________\n",
            "BatchNorm2d          [16, 66, 66]         32         True      \n",
            "______________________________________________________________________\n",
            "LeakyReLU            [16, 66, 66]         0          False     \n",
            "______________________________________________________________________\n",
            "Conv2d               [32, 66, 66]         4,608      True      \n",
            "______________________________________________________________________\n",
            "BatchNorm2d          [32, 66, 66]         64         True      \n",
            "______________________________________________________________________\n",
            "LeakyReLU            [32, 66, 66]         0          False     \n",
            "______________________________________________________________________\n",
            "MaxPool2d            [32, 33, 33]         0          False     \n",
            "______________________________________________________________________\n",
            "Conv2d               [64, 33, 33]         18,432     True      \n",
            "______________________________________________________________________\n",
            "BatchNorm2d          [64, 33, 33]         128        True      \n",
            "______________________________________________________________________\n",
            "LeakyReLU            [64, 33, 33]         0          False     \n",
            "______________________________________________________________________\n",
            "Conv2d               [32, 35, 35]         2,048      True      \n",
            "______________________________________________________________________\n",
            "BatchNorm2d          [32, 35, 35]         64         True      \n",
            "______________________________________________________________________\n",
            "LeakyReLU            [32, 35, 35]         0          False     \n",
            "______________________________________________________________________\n",
            "Conv2d               [64, 35, 35]         18,432     True      \n",
            "______________________________________________________________________\n",
            "BatchNorm2d          [64, 35, 35]         128        True      \n",
            "______________________________________________________________________\n",
            "LeakyReLU            [64, 35, 35]         0          False     \n",
            "______________________________________________________________________\n",
            "MaxPool2d            [64, 17, 17]         0          False     \n",
            "______________________________________________________________________\n",
            "Conv2d               [128, 17, 17]        73,728     True      \n",
            "______________________________________________________________________\n",
            "BatchNorm2d          [128, 17, 17]        256        True      \n",
            "______________________________________________________________________\n",
            "LeakyReLU            [128, 17, 17]        0          False     \n",
            "______________________________________________________________________\n",
            "Conv2d               [64, 19, 19]         8,192      True      \n",
            "______________________________________________________________________\n",
            "BatchNorm2d          [64, 19, 19]         128        True      \n",
            "______________________________________________________________________\n",
            "LeakyReLU            [64, 19, 19]         0          False     \n",
            "______________________________________________________________________\n",
            "Conv2d               [128, 19, 19]        73,728     True      \n",
            "______________________________________________________________________\n",
            "BatchNorm2d          [128, 19, 19]        256        True      \n",
            "______________________________________________________________________\n",
            "LeakyReLU            [128, 19, 19]        0          False     \n",
            "______________________________________________________________________\n",
            "MaxPool2d            [128, 9, 9]          0          False     \n",
            "______________________________________________________________________\n",
            "Conv2d               [256, 9, 9]          294,912    True      \n",
            "______________________________________________________________________\n",
            "BatchNorm2d          [256, 9, 9]          512        True      \n",
            "______________________________________________________________________\n",
            "LeakyReLU            [256, 9, 9]          0          False     \n",
            "______________________________________________________________________\n",
            "Conv2d               [128, 11, 11]        32,768     True      \n",
            "______________________________________________________________________\n",
            "BatchNorm2d          [128, 11, 11]        256        True      \n",
            "______________________________________________________________________\n",
            "LeakyReLU            [128, 11, 11]        0          False     \n",
            "______________________________________________________________________\n",
            "Conv2d               [256, 11, 11]        294,912    True      \n",
            "______________________________________________________________________\n",
            "BatchNorm2d          [256, 11, 11]        512        True      \n",
            "______________________________________________________________________\n",
            "LeakyReLU            [256, 11, 11]        0          False     \n",
            "______________________________________________________________________\n",
            "Conv2d               [128, 13, 13]        32,768     True      \n",
            "______________________________________________________________________\n",
            "BatchNorm2d          [128, 13, 13]        256        True      \n",
            "______________________________________________________________________\n",
            "LeakyReLU            [128, 13, 13]        0          False     \n",
            "______________________________________________________________________\n",
            "Conv2d               [256, 13, 13]        294,912    True      \n",
            "______________________________________________________________________\n",
            "BatchNorm2d          [256, 13, 13]        512        True      \n",
            "______________________________________________________________________\n",
            "LeakyReLU            [256, 13, 13]        0          False     \n",
            "______________________________________________________________________\n",
            "Conv2d               [3, 13, 13]          6,912      True      \n",
            "______________________________________________________________________\n",
            "ReLU                 [3, 13, 13]          0          False     \n",
            "______________________________________________________________________\n",
            "BatchNorm2d          [3, 13, 13]          6          True      \n",
            "______________________________________________________________________\n",
            "Flatten              [507]                0          False     \n",
            "______________________________________________________________________\n",
            "Linear               [3]                  1,524      True      \n",
            "______________________________________________________________________\n",
            "\n",
            "Total params: 1,167,586\n",
            "Total trainable params: 1,167,586\n",
            "Total non-trainable params: 0\n",
            "Optimized with 'torch.optim.adam.Adam', betas=(0.9, 0.99)\n",
            "Using true weight decay as discussed in https://www.fast.ai/2018/07/02/adam-weight-decay/ \n",
            "Loss function : CrossEntropyLoss\n",
            "======================================================================\n",
            "Callbacks functions applied \n",
            "\n"
          ],
          "name": "stdout"
        }
      ]
    },
    {
      "cell_type": "code",
      "metadata": {
        "id": "e4EPwr_oh6Hs"
      },
      "source": [
        "#This code is from Ozturk T, Talo M, Yildirim EA, Baloglu UB, Yildirim O, Acharya UR. Automated detection of COVID-19 cases using deep neural networks with X-ray images. Computers in biology and medicine. 2020 Jun 1;121:103792.\n",
        "\n",
        "#train with 100 epochs and max learning rate of up to 0.0003\n",
        "learn.fit_one_cycle(100, max_lr=3e-3)"
      ],
      "execution_count": null,
      "outputs": []
    },
    {
      "cell_type": "code",
      "metadata": {
        "colab": {
          "base_uri": "https://localhost:8080/",
          "height": 280
        },
        "id": "gzuR2okXo6o9",
        "outputId": "8c17d809-94aa-48e2-f3db-6015bec15978"
      },
      "source": [
        "#This code is from Ozturk T, Talo M, Yildirim EA, Baloglu UB, Yildirim O, Acharya UR. Automated detection of COVID-19 cases using deep neural networks with X-ray images. Computers in biology and medicine. 2020 Jun 1;121:103792.\n",
        "\n",
        "#plots the train and validation loss after all of the training is over\n",
        "learn.recorder.plot_losses()"
      ],
      "execution_count": null,
      "outputs": [
        {
          "output_type": "display_data",
          "data": {
            "image/png": "[encoded data removed]",
            "text/plain": [
              "<Figure size 432x288 with 1 Axes>"
            ]
          },
          "metadata": {
            "tags": [],
            "needs_background": "light"
          }
        }
      ]
    },
    {
      "cell_type": "code",
      "metadata": {
        "colab": {
          "base_uri": "https://localhost:8080/"
        },
        "id": "3Cm8erAHo8K-",
        "outputId": "5fd9ee7f-ac75-4548-f857-b335f39e60e9"
      },
      "source": [
        "#This code is from Ozturk T, Talo M, Yildirim EA, Baloglu UB, Yildirim O, Acharya UR. Automated detection of COVID-19 cases using deep neural networks with X-ray images. Computers in biology and medicine. 2020 Jun 1;121:103792.\n",
        "\n",
        "print(\"Number of examples in testing:\", len(data.valid_ds))"
      ],
      "execution_count": null,
      "outputs": [
        {
          "output_type": "stream",
          "text": [
            "Number of examples in testing: 301\n"
          ],
          "name": "stdout"
        }
      ]
    },
    {
      "cell_type": "code",
      "metadata": {
        "colab": {
          "base_uri": "https://localhost:8080/",
          "height": 17
        },
        "id": "dHqq5iuVo9fH",
        "outputId": "57f25e00-e6f7-4170-c8a1-823386101033"
      },
      "source": [
        "#This code is from Ozturk T, Talo M, Yildirim EA, Baloglu UB, Yildirim O, Acharya UR. Automated detection of COVID-19 cases using deep neural networks with X-ray images. Computers in biology and medicine. 2020 Jun 1;121:103792.\n",
        "\n",
        "#run the validation data through the model\n",
        "probs,targets = learn.get_preds(ds_type=DatasetType.Valid) # Predicting without test time augmentation (random modifications to test images)"
      ],
      "execution_count": null,
      "outputs": [
        {
          "output_type": "display_data",
          "data": {
            "text/html": [
              ""
            ],
            "text/plain": [
              "<IPython.core.display.HTML object>"
            ]
          },
          "metadata": {
            "tags": []
          }
        }
      ]
    },
    {
      "cell_type": "code",
      "metadata": {
        "colab": {
          "base_uri": "https://localhost:8080/"
        },
        "id": "J2TXMJUZpGo5",
        "outputId": "63d26f9e-216f-479a-8861-cba801a46b17"
      },
      "source": [
        "#This code is from Ozturk T, Talo M, Yildirim EA, Baloglu UB, Yildirim O, Acharya UR. Automated detection of COVID-19 cases using deep neural networks with X-ray images. Computers in biology and medicine. 2020 Jun 1;121:103792.\n",
        "\n",
        "#show the accuracy of the probs and targets \n",
        "accuracy(probs,targets)"
      ],
      "execution_count": null,
      "outputs": [
        {
          "output_type": "execute_result",
          "data": {
            "text/plain": [
              "tensor(0.8804)"
            ]
          },
          "metadata": {
            "tags": []
          },
          "execution_count": 61
        }
      ]
    },
    {
      "cell_type": "code",
      "metadata": {
        "colab": {
          "base_uri": "https://localhost:8080/"
        },
        "id": "5ap1B9hbpIqa",
        "outputId": "24f75a72-4126-4f41-9ad2-93cb950af2c2"
      },
      "source": [
        "#This code is from Ozturk T, Talo M, Yildirim EA, Baloglu UB, Yildirim O, Acharya UR. Automated detection of COVID-19 cases using deep neural networks with X-ray images. Computers in biology and medicine. 2020 Jun 1;121:103792.\n",
        "\n",
        "#display data in the validation set \n",
        "data.classes, data.c, len(data.train_ds), len(data.valid_ds)"
      ],
      "execution_count": null,
      "outputs": [
        {
          "output_type": "execute_result",
          "data": {
            "text/plain": [
              "(['Covid-19', 'No_findings', 'Pneumonia'], 3, 1201, 301)"
            ]
          },
          "metadata": {
            "tags": []
          },
          "execution_count": 62
        }
      ]
    },
    {
      "cell_type": "code",
      "metadata": {
        "colab": {
          "base_uri": "https://localhost:8080/"
        },
        "id": "bp507IJMpJjS",
        "outputId": "ec081d3d-0810-4e6b-a2c2-31a1d29f7cec"
      },
      "source": [
        "#This code is from Ozturk T, Talo M, Yildirim EA, Baloglu UB, Yildirim O, Acharya UR. Automated detection of COVID-19 cases using deep neural networks with X-ray images. Computers in biology and medicine. 2020 Jun 1;121:103792.\n",
        "\n",
        "#This code gets the label from each class from the probs array \n",
        "probs = np.argmax(probs, axis=1)\n",
        "#determine how many labels correctly match \n",
        "correct = 0\n",
        "for idx, pred in enumerate(probs):\n",
        "    if pred == targets[idx]:\n",
        "        correct += 1\n",
        "accuracy = correct / len(probs)\n",
        "print(len(probs), correct, accuracy)\n",
        "\n",
        "#display confusion matrix\n",
        "from sklearn.metrics import confusion_matrix\n",
        "np.set_printoptions(threshold=np.inf) # shows whole confusion matrix\n",
        "cm1 = confusion_matrix(targets, probs)\n",
        "print(cm1)\n",
        "\n",
        "#display classification report with the three class labels \n",
        "from sklearn.metrics import classification_report\n",
        "y_true1 = targets\n",
        "y_pred1 = probs\n",
        "target_names = ['Covid-19', 'No_findings', 'Pneumonia']\n",
        "print(classification_report(y_true1, y_pred1, target_names=target_names))\n",
        "\n",
        "#show macro precision\n",
        "from sklearn.metrics import precision_score\n",
        "print('Precision',precision_score(y_true1, y_pred1, average='macro'))\n",
        "\n",
        "# show the macro f1 score \n",
        "from sklearn.metrics import f1_score\n",
        "print('F1-score',f1_score(y_true1, y_pred1, average='macro'))\n"
      ],
      "execution_count": null,
      "outputs": [
        {
          "output_type": "stream",
          "text": [
            "301 265 0.8803986710963455\n",
            "[[90  1  9]\n",
            " [ 0 88 12]\n",
            " [ 0 14 87]]\n",
            "              precision    recall  f1-score   support\n",
            "\n",
            "    Covid-19       1.00      0.90      0.95       100\n",
            " No_findings       0.85      0.88      0.87       100\n",
            "   Pneumonia       0.81      0.86      0.83       101\n",
            "\n",
            "    accuracy                           0.88       301\n",
            "   macro avg       0.89      0.88      0.88       301\n",
            "weighted avg       0.89      0.88      0.88       301\n",
            "\n",
            "Precision 0.8866414958647969\n",
            "F1-score 0.8822997933705737\n"
          ],
          "name": "stdout"
        }
      ]
    },
    {
      "cell_type": "code",
      "metadata": {
        "colab": {
          "base_uri": "https://localhost:8080/",
          "height": 17
        },
        "id": "UGh8NA2ZpMam",
        "outputId": "54d752c3-bdde-4774-b657-0a5184ccdb86"
      },
      "source": [
        "#This code is from Ozturk T, Talo M, Yildirim EA, Baloglu UB, Yildirim O, Acharya UR. Automated detection of COVID-19 cases using deep neural networks with X-ray images. Computers in biology and medicine. 2020 Jun 1;121:103792.\n",
        "\n",
        "#creates an interpreter object of the validation data from the model \n",
        "interp = ClassificationInterpretation.from_learner(learn)"
      ],
      "execution_count": null,
      "outputs": [
        {
          "output_type": "display_data",
          "data": {
            "text/html": [
              ""
            ],
            "text/plain": [
              "<IPython.core.display.HTML object>"
            ]
          },
          "metadata": {
            "tags": []
          }
        }
      ]
    },
    {
      "cell_type": "code",
      "metadata": {
        "colab": {
          "base_uri": "https://localhost:8080/",
          "height": 311
        },
        "id": "PcUOcGgopOR4",
        "outputId": "47da6812-4ac1-407c-8f9f-48884496d7ed"
      },
      "source": [
        "#This code is from Ozturk T, Talo M, Yildirim EA, Baloglu UB, Yildirim O, Acharya UR. Automated detection of COVID-19 cases using deep neural networks with X-ray images. Computers in biology and medicine. 2020 Jun 1;121:103792.\n",
        "\n",
        "#display the confusion matrix of the validation data \n",
        "cm_fig = interp.plot_confusion_matrix(return_fig=True)\n",
        "ax = cm_fig.gca()\n",
        "ax.set_ylim(interp.data.c - .5, - .5);"
      ],
      "execution_count": null,
      "outputs": [
        {
          "output_type": "display_data",
          "data": {
            "image/png": "[encoded data removed]",
            "text/plain": [
              "<Figure size 432x288 with 1 Axes>"
            ]
          },
          "metadata": {
            "tags": [],
            "needs_background": "light"
          }
        }
      ]
    },
    {
      "cell_type": "markdown",
      "metadata": {
        "id": "jjRACtsarMl1"
      },
      "source": [
        "# Model 2 - Adding more layers \n",
        "- In this section of the code, I modify the DarkCovidNet architecure (from Ozturk T, Talo M, Yildirim EA, Baloglu UB, Yildirim O, Acharya UR. Automated detection of COVID-19 cases using deep neural networks with X-ray images. Computers in biology and medicine. 2020 Jun 1;121:103792)\n",
        "\n",
        "- The model uses the balanced dataset (about 500 COVID-19 images)\n",
        "\n",
        "- I added two triple convolution blocks with output size 128 and 256 respectively, so that there are now three triple convolution blocks after the final max pooling layer\n",
        "- I also add an additional Linear layer (fully connected layer) after the Flattened layer with a LeakyRelu activation function in the middle of the two Linear layers. \n"
      ]
    },
    {
      "cell_type": "code",
      "metadata": {
        "id": "aXHryUg4q_6Q"
      },
      "source": [
        "#This code is a modified version of code from Ozturk T, Talo M, Yildirim EA, Baloglu UB, Yildirim O, Acharya UR. Automated detection of COVID-19 cases using deep neural networks with X-ray images. Computers in biology and medicine. 2020 Jun 1;121:103792.\n",
        "\n",
        "model2 = nn.Sequential(\n",
        "    conv_block(3, 8),\n",
        "    maxpooling(),\n",
        "    conv_block(8, 16),\n",
        "    maxpooling(),\n",
        "    triple_conv(16, 32),\n",
        "    maxpooling(),\n",
        "    triple_conv(32, 64),\n",
        "    maxpooling(),\n",
        "    triple_conv(64, 128),\n",
        "    maxpooling(),\n",
        "    triple_conv(128, 256),\n",
        "    triple_conv(256,128),\n",
        "    triple_conv(128,256),\n",
        "    conv_block(256, 128, size=1),\n",
        "    conv_block(128, 256),\n",
        "    conv_layer(256, 3),\n",
        "    Flatten(),\n",
        "    nn.Linear(867,507),\n",
        "    nn.LeakyReLU(negative_slope=0.1, inplace=True),\n",
        "    nn.Linear(507, 3),\n",
        ")\n"
      ],
      "execution_count": null,
      "outputs": []
    },
    {
      "cell_type": "code",
      "metadata": {
        "id": "f7RnlSM1rV-3"
      },
      "source": [
        "#This code is from Ozturk T, Talo M, Yildirim EA, Baloglu UB, Yildirim O, Acharya UR. Automated detection of COVID-19 cases using deep neural networks with X-ray images. Computers in biology and medicine. 2020 Jun 1;121:103792.\n",
        "\n",
        "#This sets up the model specificying the data to use, model, cross entropy loss and metrics to visualize\n",
        "learn = Learner(data, model2, loss_func = nn.CrossEntropyLoss(), metrics=accuracy)"
      ],
      "execution_count": null,
      "outputs": []
    },
    {
      "cell_type": "code",
      "metadata": {
        "colab": {
          "base_uri": "https://localhost:8080/"
        },
        "id": "YyFplC2prYo_",
        "outputId": "daef5f39-70db-43ba-8e0c-014c2bfcc260"
      },
      "source": [
        "#This code is from Ozturk T, Talo M, Yildirim EA, Baloglu UB, Yildirim O, Acharya UR. Automated detection of COVID-19 cases using deep neural networks with X-ray images. Computers in biology and medicine. 2020 Jun 1;121:103792.\n",
        "\n",
        "#Print the overall architecture of the model and visualize the shape of each output \n",
        "print(learn.summary())"
      ],
      "execution_count": null,
      "outputs": [
        {
          "output_type": "stream",
          "text": [
            "Sequential\n",
            "======================================================================\n",
            "Layer (type)         Output Shape         Param #    Trainable \n",
            "======================================================================\n",
            "Conv2d               [8, 256, 256]        216        True      \n",
            "______________________________________________________________________\n",
            "BatchNorm2d          [8, 256, 256]        16         True      \n",
            "______________________________________________________________________\n",
            "LeakyReLU            [8, 256, 256]        0          False     \n",
            "______________________________________________________________________\n",
            "MaxPool2d            [8, 128, 128]        0          False     \n",
            "______________________________________________________________________\n",
            "Conv2d               [16, 128, 128]       1,152      True      \n",
            "______________________________________________________________________\n",
            "BatchNorm2d          [16, 128, 128]       32         True      \n",
            "______________________________________________________________________\n",
            "LeakyReLU            [16, 128, 128]       0          False     \n",
            "______________________________________________________________________\n",
            "MaxPool2d            [16, 64, 64]         0          False     \n",
            "______________________________________________________________________\n",
            "Conv2d               [32, 64, 64]         4,608      True      \n",
            "______________________________________________________________________\n",
            "BatchNorm2d          [32, 64, 64]         64         True      \n",
            "______________________________________________________________________\n",
            "LeakyReLU            [32, 64, 64]         0          False     \n",
            "______________________________________________________________________\n",
            "Conv2d               [16, 66, 66]         512        True      \n",
            "______________________________________________________________________\n",
            "BatchNorm2d          [16, 66, 66]         32         True      \n",
            "______________________________________________________________________\n",
            "LeakyReLU            [16, 66, 66]         0          False     \n",
            "______________________________________________________________________\n",
            "Conv2d               [32, 66, 66]         4,608      True      \n",
            "______________________________________________________________________\n",
            "BatchNorm2d          [32, 66, 66]         64         True      \n",
            "______________________________________________________________________\n",
            "LeakyReLU            [32, 66, 66]         0          False     \n",
            "______________________________________________________________________\n",
            "MaxPool2d            [32, 33, 33]         0          False     \n",
            "______________________________________________________________________\n",
            "Conv2d               [64, 33, 33]         18,432     True      \n",
            "______________________________________________________________________\n",
            "BatchNorm2d          [64, 33, 33]         128        True      \n",
            "______________________________________________________________________\n",
            "LeakyReLU            [64, 33, 33]         0          False     \n",
            "______________________________________________________________________\n",
            "Conv2d               [32, 35, 35]         2,048      True      \n",
            "______________________________________________________________________\n",
            "BatchNorm2d          [32, 35, 35]         64         True      \n",
            "______________________________________________________________________\n",
            "LeakyReLU            [32, 35, 35]         0          False     \n",
            "______________________________________________________________________\n",
            "Conv2d               [64, 35, 35]         18,432     True      \n",
            "______________________________________________________________________\n",
            "BatchNorm2d          [64, 35, 35]         128        True      \n",
            "______________________________________________________________________\n",
            "LeakyReLU            [64, 35, 35]         0          False     \n",
            "______________________________________________________________________\n",
            "MaxPool2d            [64, 17, 17]         0          False     \n",
            "______________________________________________________________________\n",
            "Conv2d               [128, 17, 17]        73,728     True      \n",
            "______________________________________________________________________\n",
            "BatchNorm2d          [128, 17, 17]        256        True      \n",
            "______________________________________________________________________\n",
            "LeakyReLU            [128, 17, 17]        0          False     \n",
            "______________________________________________________________________\n",
            "Conv2d               [64, 19, 19]         8,192      True      \n",
            "______________________________________________________________________\n",
            "BatchNorm2d          [64, 19, 19]         128        True      \n",
            "______________________________________________________________________\n",
            "LeakyReLU            [64, 19, 19]         0          False     \n",
            "______________________________________________________________________\n",
            "Conv2d               [128, 19, 19]        73,728     True      \n",
            "______________________________________________________________________\n",
            "BatchNorm2d          [128, 19, 19]        256        True      \n",
            "______________________________________________________________________\n",
            "LeakyReLU            [128, 19, 19]        0          False     \n",
            "______________________________________________________________________\n",
            "MaxPool2d            [128, 9, 9]          0          False     \n",
            "______________________________________________________________________\n",
            "Conv2d               [256, 9, 9]          294,912    True      \n",
            "______________________________________________________________________\n",
            "BatchNorm2d          [256, 9, 9]          512        True      \n",
            "______________________________________________________________________\n",
            "LeakyReLU            [256, 9, 9]          0          False     \n",
            "______________________________________________________________________\n",
            "Conv2d               [128, 11, 11]        32,768     True      \n",
            "______________________________________________________________________\n",
            "BatchNorm2d          [128, 11, 11]        256        True      \n",
            "______________________________________________________________________\n",
            "LeakyReLU            [128, 11, 11]        0          False     \n",
            "______________________________________________________________________\n",
            "Conv2d               [256, 11, 11]        294,912    True      \n",
            "______________________________________________________________________\n",
            "BatchNorm2d          [256, 11, 11]        512        True      \n",
            "______________________________________________________________________\n",
            "LeakyReLU            [256, 11, 11]        0          False     \n",
            "______________________________________________________________________\n",
            "Conv2d               [128, 11, 11]        294,912    True      \n",
            "______________________________________________________________________\n",
            "BatchNorm2d          [128, 11, 11]        256        True      \n",
            "______________________________________________________________________\n",
            "LeakyReLU            [128, 11, 11]        0          False     \n",
            "______________________________________________________________________\n",
            "Conv2d               [256, 13, 13]        32,768     True      \n",
            "______________________________________________________________________\n",
            "BatchNorm2d          [256, 13, 13]        512        True      \n",
            "______________________________________________________________________\n",
            "LeakyReLU            [256, 13, 13]        0          False     \n",
            "______________________________________________________________________\n",
            "Conv2d               [128, 13, 13]        294,912    True      \n",
            "______________________________________________________________________\n",
            "BatchNorm2d          [128, 13, 13]        256        True      \n",
            "______________________________________________________________________\n",
            "LeakyReLU            [128, 13, 13]        0          False     \n",
            "______________________________________________________________________\n",
            "Conv2d               [256, 13, 13]        294,912    True      \n",
            "______________________________________________________________________\n",
            "BatchNorm2d          [256, 13, 13]        512        True      \n",
            "______________________________________________________________________\n",
            "LeakyReLU            [256, 13, 13]        0          False     \n",
            "______________________________________________________________________\n",
            "Conv2d               [128, 15, 15]        32,768     True      \n",
            "______________________________________________________________________\n",
            "BatchNorm2d          [128, 15, 15]        256        True      \n",
            "______________________________________________________________________\n",
            "LeakyReLU            [128, 15, 15]        0          False     \n",
            "______________________________________________________________________\n",
            "Conv2d               [256, 15, 15]        294,912    True      \n",
            "______________________________________________________________________\n",
            "BatchNorm2d          [256, 15, 15]        512        True      \n",
            "______________________________________________________________________\n",
            "LeakyReLU            [256, 15, 15]        0          False     \n",
            "______________________________________________________________________\n",
            "Conv2d               [128, 17, 17]        32,768     True      \n",
            "______________________________________________________________________\n",
            "BatchNorm2d          [128, 17, 17]        256        True      \n",
            "______________________________________________________________________\n",
            "LeakyReLU            [128, 17, 17]        0          False     \n",
            "______________________________________________________________________\n",
            "Conv2d               [256, 17, 17]        294,912    True      \n",
            "______________________________________________________________________\n",
            "BatchNorm2d          [256, 17, 17]        512        True      \n",
            "______________________________________________________________________\n",
            "LeakyReLU            [256, 17, 17]        0          False     \n",
            "______________________________________________________________________\n",
            "Conv2d               [3, 17, 17]          6,912      True      \n",
            "______________________________________________________________________\n",
            "ReLU                 [3, 17, 17]          0          False     \n",
            "______________________________________________________________________\n",
            "BatchNorm2d          [3, 17, 17]          6          True      \n",
            "______________________________________________________________________\n",
            "Flatten              [867]                0          False     \n",
            "______________________________________________________________________\n",
            "Linear               [507]                440,076    True      \n",
            "______________________________________________________________________\n",
            "LeakyReLU            [507]                0          False     \n",
            "______________________________________________________________________\n",
            "Linear               [3]                  1,524      True      \n",
            "______________________________________________________________________\n",
            "\n",
            "Total params: 2,855,150\n",
            "Total trainable params: 2,855,150\n",
            "Total non-trainable params: 0\n",
            "Optimized with 'torch.optim.adam.Adam', betas=(0.9, 0.99)\n",
            "Using true weight decay as discussed in https://www.fast.ai/2018/07/02/adam-weight-decay/ \n",
            "Loss function : CrossEntropyLoss\n",
            "======================================================================\n",
            "Callbacks functions applied \n",
            "\n"
          ],
          "name": "stdout"
        }
      ]
    },
    {
      "cell_type": "code",
      "metadata": {
        "colab": {
          "base_uri": "https://localhost:8080/",
          "height": 1000
        },
        "id": "TL_Tk6X1rbON",
        "outputId": "5f8578df-c90f-4395-8a8d-da6d970a0676"
      },
      "source": [
        "#This code is from Ozturk T, Talo M, Yildirim EA, Baloglu UB, Yildirim O, Acharya UR. Automated detection of COVID-19 cases using deep neural networks with X-ray images. Computers in biology and medicine. 2020 Jun 1;121:103792.\n",
        "\n",
        "#train with 100 epochs and max learning rate of up to 0.0003\n",
        "learn.fit_one_cycle(100, max_lr=3e-3)"
      ],
      "execution_count": null,
      "outputs": [
        {
          "output_type": "display_data",
          "data": {
            "text/html": [
              "<table border=\"1\" class=\"dataframe\">\n",
              "  <thead>\n",
              "    <tr style=\"text-align: left;\">\n",
              "      <th>epoch</th>\n",
              "      <th>train_loss</th>\n",
              "      <th>valid_loss</th>\n",
              "      <th>accuracy</th>\n",
              "      <th>time</th>\n",
              "    </tr>\n",
              "  </thead>\n",
              "  <tbody>\n",
              "    <tr>\n",
              "      <td>0</td>\n",
              "      <td>0.956179</td>\n",
              "      <td>1.146116</td>\n",
              "      <td>0.362126</td>\n",
              "      <td>00:49</td>\n",
              "    </tr>\n",
              "    <tr>\n",
              "      <td>1</td>\n",
              "      <td>0.871156</td>\n",
              "      <td>0.898731</td>\n",
              "      <td>0.624585</td>\n",
              "      <td>00:48</td>\n",
              "    </tr>\n",
              "    <tr>\n",
              "      <td>2</td>\n",
              "      <td>0.814958</td>\n",
              "      <td>0.710147</td>\n",
              "      <td>0.694352</td>\n",
              "      <td>00:48</td>\n",
              "    </tr>\n",
              "    <tr>\n",
              "      <td>3</td>\n",
              "      <td>0.772132</td>\n",
              "      <td>0.607341</td>\n",
              "      <td>0.750831</td>\n",
              "      <td>00:49</td>\n",
              "    </tr>\n",
              "    <tr>\n",
              "      <td>4</td>\n",
              "      <td>0.720103</td>\n",
              "      <td>1.321596</td>\n",
              "      <td>0.491694</td>\n",
              "      <td>00:50</td>\n",
              "    </tr>\n",
              "    <tr>\n",
              "      <td>5</td>\n",
              "      <td>0.695716</td>\n",
              "      <td>0.657687</td>\n",
              "      <td>0.681063</td>\n",
              "      <td>00:50</td>\n",
              "    </tr>\n",
              "    <tr>\n",
              "      <td>6</td>\n",
              "      <td>0.700417</td>\n",
              "      <td>0.563557</td>\n",
              "      <td>0.740864</td>\n",
              "      <td>00:51</td>\n",
              "    </tr>\n",
              "    <tr>\n",
              "      <td>7</td>\n",
              "      <td>0.720811</td>\n",
              "      <td>0.671453</td>\n",
              "      <td>0.737542</td>\n",
              "      <td>00:51</td>\n",
              "    </tr>\n",
              "    <tr>\n",
              "      <td>8</td>\n",
              "      <td>0.726814</td>\n",
              "      <td>0.695471</td>\n",
              "      <td>0.687708</td>\n",
              "      <td>00:53</td>\n",
              "    </tr>\n",
              "    <tr>\n",
              "      <td>9</td>\n",
              "      <td>0.705503</td>\n",
              "      <td>0.677390</td>\n",
              "      <td>0.730897</td>\n",
              "      <td>00:51</td>\n",
              "    </tr>\n",
              "    <tr>\n",
              "      <td>10</td>\n",
              "      <td>0.695924</td>\n",
              "      <td>2.018441</td>\n",
              "      <td>0.495017</td>\n",
              "      <td>00:51</td>\n",
              "    </tr>\n",
              "    <tr>\n",
              "      <td>11</td>\n",
              "      <td>0.706107</td>\n",
              "      <td>0.645339</td>\n",
              "      <td>0.737542</td>\n",
              "      <td>00:50</td>\n",
              "    </tr>\n",
              "    <tr>\n",
              "      <td>12</td>\n",
              "      <td>0.697627</td>\n",
              "      <td>1.543111</td>\n",
              "      <td>0.581395</td>\n",
              "      <td>00:50</td>\n",
              "    </tr>\n",
              "    <tr>\n",
              "      <td>13</td>\n",
              "      <td>0.718277</td>\n",
              "      <td>1.106815</td>\n",
              "      <td>0.634551</td>\n",
              "      <td>00:50</td>\n",
              "    </tr>\n",
              "    <tr>\n",
              "      <td>14</td>\n",
              "      <td>0.689888</td>\n",
              "      <td>1.172039</td>\n",
              "      <td>0.448505</td>\n",
              "      <td>00:50</td>\n",
              "    </tr>\n",
              "    <tr>\n",
              "      <td>15</td>\n",
              "      <td>0.682157</td>\n",
              "      <td>0.726449</td>\n",
              "      <td>0.724252</td>\n",
              "      <td>00:49</td>\n",
              "    </tr>\n",
              "    <tr>\n",
              "      <td>16</td>\n",
              "      <td>0.690218</td>\n",
              "      <td>0.781108</td>\n",
              "      <td>0.671096</td>\n",
              "      <td>00:49</td>\n",
              "    </tr>\n",
              "    <tr>\n",
              "      <td>17</td>\n",
              "      <td>0.689709</td>\n",
              "      <td>0.722763</td>\n",
              "      <td>0.707641</td>\n",
              "      <td>00:49</td>\n",
              "    </tr>\n",
              "    <tr>\n",
              "      <td>18</td>\n",
              "      <td>0.667780</td>\n",
              "      <td>0.614922</td>\n",
              "      <td>0.747508</td>\n",
              "      <td>00:49</td>\n",
              "    </tr>\n",
              "    <tr>\n",
              "      <td>19</td>\n",
              "      <td>0.683749</td>\n",
              "      <td>0.715354</td>\n",
              "      <td>0.647841</td>\n",
              "      <td>00:49</td>\n",
              "    </tr>\n",
              "    <tr>\n",
              "      <td>20</td>\n",
              "      <td>0.674261</td>\n",
              "      <td>0.995796</td>\n",
              "      <td>0.624585</td>\n",
              "      <td>00:49</td>\n",
              "    </tr>\n",
              "    <tr>\n",
              "      <td>21</td>\n",
              "      <td>0.670900</td>\n",
              "      <td>1.243789</td>\n",
              "      <td>0.495017</td>\n",
              "      <td>00:48</td>\n",
              "    </tr>\n",
              "    <tr>\n",
              "      <td>22</td>\n",
              "      <td>0.707321</td>\n",
              "      <td>0.720551</td>\n",
              "      <td>0.667774</td>\n",
              "      <td>00:49</td>\n",
              "    </tr>\n",
              "    <tr>\n",
              "      <td>23</td>\n",
              "      <td>0.672982</td>\n",
              "      <td>0.729373</td>\n",
              "      <td>0.667774</td>\n",
              "      <td>00:49</td>\n",
              "    </tr>\n",
              "    <tr>\n",
              "      <td>24</td>\n",
              "      <td>0.643408</td>\n",
              "      <td>0.727759</td>\n",
              "      <td>0.704319</td>\n",
              "      <td>00:49</td>\n",
              "    </tr>\n",
              "    <tr>\n",
              "      <td>25</td>\n",
              "      <td>0.645596</td>\n",
              "      <td>0.873640</td>\n",
              "      <td>0.674419</td>\n",
              "      <td>00:49</td>\n",
              "    </tr>\n",
              "    <tr>\n",
              "      <td>26</td>\n",
              "      <td>0.633038</td>\n",
              "      <td>0.669044</td>\n",
              "      <td>0.691030</td>\n",
              "      <td>00:49</td>\n",
              "    </tr>\n",
              "    <tr>\n",
              "      <td>27</td>\n",
              "      <td>0.600196</td>\n",
              "      <td>0.568314</td>\n",
              "      <td>0.780731</td>\n",
              "      <td>00:49</td>\n",
              "    </tr>\n",
              "    <tr>\n",
              "      <td>28</td>\n",
              "      <td>0.607211</td>\n",
              "      <td>0.649538</td>\n",
              "      <td>0.727575</td>\n",
              "      <td>00:49</td>\n",
              "    </tr>\n",
              "    <tr>\n",
              "      <td>29</td>\n",
              "      <td>0.580253</td>\n",
              "      <td>0.840894</td>\n",
              "      <td>0.634551</td>\n",
              "      <td>00:49</td>\n",
              "    </tr>\n",
              "    <tr>\n",
              "      <td>30</td>\n",
              "      <td>0.597341</td>\n",
              "      <td>0.782150</td>\n",
              "      <td>0.710963</td>\n",
              "      <td>00:49</td>\n",
              "    </tr>\n",
              "    <tr>\n",
              "      <td>31</td>\n",
              "      <td>0.603069</td>\n",
              "      <td>1.627298</td>\n",
              "      <td>0.475083</td>\n",
              "      <td>00:51</td>\n",
              "    </tr>\n",
              "    <tr>\n",
              "      <td>32</td>\n",
              "      <td>0.596167</td>\n",
              "      <td>0.827596</td>\n",
              "      <td>0.674419</td>\n",
              "      <td>00:49</td>\n",
              "    </tr>\n",
              "    <tr>\n",
              "      <td>33</td>\n",
              "      <td>0.544210</td>\n",
              "      <td>3.032045</td>\n",
              "      <td>0.475083</td>\n",
              "      <td>00:49</td>\n",
              "    </tr>\n",
              "    <tr>\n",
              "      <td>34</td>\n",
              "      <td>0.539426</td>\n",
              "      <td>3.599812</td>\n",
              "      <td>0.418605</td>\n",
              "      <td>00:50</td>\n",
              "    </tr>\n",
              "    <tr>\n",
              "      <td>35</td>\n",
              "      <td>0.517981</td>\n",
              "      <td>0.910092</td>\n",
              "      <td>0.647841</td>\n",
              "      <td>00:49</td>\n",
              "    </tr>\n",
              "    <tr>\n",
              "      <td>36</td>\n",
              "      <td>0.521726</td>\n",
              "      <td>0.470011</td>\n",
              "      <td>0.813953</td>\n",
              "      <td>00:49</td>\n",
              "    </tr>\n",
              "    <tr>\n",
              "      <td>37</td>\n",
              "      <td>0.522253</td>\n",
              "      <td>1.521135</td>\n",
              "      <td>0.465116</td>\n",
              "      <td>00:50</td>\n",
              "    </tr>\n",
              "    <tr>\n",
              "      <td>38</td>\n",
              "      <td>0.535662</td>\n",
              "      <td>0.909842</td>\n",
              "      <td>0.681063</td>\n",
              "      <td>00:49</td>\n",
              "    </tr>\n",
              "    <tr>\n",
              "      <td>39</td>\n",
              "      <td>0.529358</td>\n",
              "      <td>0.735981</td>\n",
              "      <td>0.720930</td>\n",
              "      <td>00:48</td>\n",
              "    </tr>\n",
              "    <tr>\n",
              "      <td>40</td>\n",
              "      <td>0.492559</td>\n",
              "      <td>1.443373</td>\n",
              "      <td>0.591362</td>\n",
              "      <td>00:50</td>\n",
              "    </tr>\n",
              "    <tr>\n",
              "      <td>41</td>\n",
              "      <td>0.482671</td>\n",
              "      <td>0.533854</td>\n",
              "      <td>0.800664</td>\n",
              "      <td>00:50</td>\n",
              "    </tr>\n",
              "    <tr>\n",
              "      <td>42</td>\n",
              "      <td>0.487988</td>\n",
              "      <td>0.579673</td>\n",
              "      <td>0.794020</td>\n",
              "      <td>00:50</td>\n",
              "    </tr>\n",
              "    <tr>\n",
              "      <td>43</td>\n",
              "      <td>0.472777</td>\n",
              "      <td>0.495788</td>\n",
              "      <td>0.800664</td>\n",
              "      <td>00:51</td>\n",
              "    </tr>\n",
              "    <tr>\n",
              "      <td>44</td>\n",
              "      <td>0.467760</td>\n",
              "      <td>0.491540</td>\n",
              "      <td>0.800664</td>\n",
              "      <td>00:51</td>\n",
              "    </tr>\n",
              "    <tr>\n",
              "      <td>45</td>\n",
              "      <td>0.444300</td>\n",
              "      <td>1.505104</td>\n",
              "      <td>0.471761</td>\n",
              "      <td>00:49</td>\n",
              "    </tr>\n",
              "    <tr>\n",
              "      <td>46</td>\n",
              "      <td>0.441326</td>\n",
              "      <td>0.496235</td>\n",
              "      <td>0.754153</td>\n",
              "      <td>00:49</td>\n",
              "    </tr>\n",
              "    <tr>\n",
              "      <td>47</td>\n",
              "      <td>0.428375</td>\n",
              "      <td>2.053577</td>\n",
              "      <td>0.514950</td>\n",
              "      <td>00:49</td>\n",
              "    </tr>\n",
              "    <tr>\n",
              "      <td>48</td>\n",
              "      <td>0.429075</td>\n",
              "      <td>0.600834</td>\n",
              "      <td>0.700997</td>\n",
              "      <td>00:49</td>\n",
              "    </tr>\n",
              "    <tr>\n",
              "      <td>49</td>\n",
              "      <td>0.433467</td>\n",
              "      <td>0.852781</td>\n",
              "      <td>0.687708</td>\n",
              "      <td>00:49</td>\n",
              "    </tr>\n",
              "    <tr>\n",
              "      <td>50</td>\n",
              "      <td>0.415890</td>\n",
              "      <td>0.450413</td>\n",
              "      <td>0.840532</td>\n",
              "      <td>00:50</td>\n",
              "    </tr>\n",
              "    <tr>\n",
              "      <td>51</td>\n",
              "      <td>0.424991</td>\n",
              "      <td>2.066911</td>\n",
              "      <td>0.564784</td>\n",
              "      <td>00:49</td>\n",
              "    </tr>\n",
              "    <tr>\n",
              "      <td>52</td>\n",
              "      <td>0.410682</td>\n",
              "      <td>6.652386</td>\n",
              "      <td>0.461794</td>\n",
              "      <td>00:49</td>\n",
              "    </tr>\n",
              "    <tr>\n",
              "      <td>53</td>\n",
              "      <td>0.401855</td>\n",
              "      <td>0.986570</td>\n",
              "      <td>0.601329</td>\n",
              "      <td>00:49</td>\n",
              "    </tr>\n",
              "    <tr>\n",
              "      <td>54</td>\n",
              "      <td>0.383102</td>\n",
              "      <td>1.312959</td>\n",
              "      <td>0.504983</td>\n",
              "      <td>00:48</td>\n",
              "    </tr>\n",
              "    <tr>\n",
              "      <td>55</td>\n",
              "      <td>0.372270</td>\n",
              "      <td>1.848430</td>\n",
              "      <td>0.425249</td>\n",
              "      <td>00:49</td>\n",
              "    </tr>\n",
              "    <tr>\n",
              "      <td>56</td>\n",
              "      <td>0.365370</td>\n",
              "      <td>0.590037</td>\n",
              "      <td>0.747508</td>\n",
              "      <td>00:49</td>\n",
              "    </tr>\n",
              "    <tr>\n",
              "      <td>57</td>\n",
              "      <td>0.368483</td>\n",
              "      <td>0.451431</td>\n",
              "      <td>0.800664</td>\n",
              "      <td>00:49</td>\n",
              "    </tr>\n",
              "    <tr>\n",
              "      <td>58</td>\n",
              "      <td>0.345206</td>\n",
              "      <td>0.495625</td>\n",
              "      <td>0.800664</td>\n",
              "      <td>00:49</td>\n",
              "    </tr>\n",
              "    <tr>\n",
              "      <td>59</td>\n",
              "      <td>0.339629</td>\n",
              "      <td>7.404849</td>\n",
              "      <td>0.421927</td>\n",
              "      <td>00:49</td>\n",
              "    </tr>\n",
              "    <tr>\n",
              "      <td>60</td>\n",
              "      <td>0.339961</td>\n",
              "      <td>0.596027</td>\n",
              "      <td>0.744186</td>\n",
              "      <td>00:50</td>\n",
              "    </tr>\n",
              "    <tr>\n",
              "      <td>61</td>\n",
              "      <td>0.338492</td>\n",
              "      <td>4.973949</td>\n",
              "      <td>0.465116</td>\n",
              "      <td>00:49</td>\n",
              "    </tr>\n",
              "    <tr>\n",
              "      <td>62</td>\n",
              "      <td>0.342441</td>\n",
              "      <td>1.446757</td>\n",
              "      <td>0.495017</td>\n",
              "      <td>00:49</td>\n",
              "    </tr>\n",
              "    <tr>\n",
              "      <td>63</td>\n",
              "      <td>0.325039</td>\n",
              "      <td>4.273139</td>\n",
              "      <td>0.598007</td>\n",
              "      <td>00:50</td>\n",
              "    </tr>\n",
              "    <tr>\n",
              "      <td>64</td>\n",
              "      <td>0.300479</td>\n",
              "      <td>0.586401</td>\n",
              "      <td>0.770764</td>\n",
              "      <td>00:49</td>\n",
              "    </tr>\n",
              "    <tr>\n",
              "      <td>65</td>\n",
              "      <td>0.302131</td>\n",
              "      <td>5.413566</td>\n",
              "      <td>0.485050</td>\n",
              "      <td>00:49</td>\n",
              "    </tr>\n",
              "    <tr>\n",
              "      <td>66</td>\n",
              "      <td>0.301494</td>\n",
              "      <td>0.457666</td>\n",
              "      <td>0.807309</td>\n",
              "      <td>00:48</td>\n",
              "    </tr>\n",
              "    <tr>\n",
              "      <td>67</td>\n",
              "      <td>0.320763</td>\n",
              "      <td>0.504282</td>\n",
              "      <td>0.810631</td>\n",
              "      <td>00:49</td>\n",
              "    </tr>\n",
              "    <tr>\n",
              "      <td>68</td>\n",
              "      <td>0.303609</td>\n",
              "      <td>0.339311</td>\n",
              "      <td>0.863787</td>\n",
              "      <td>00:48</td>\n",
              "    </tr>\n",
              "    <tr>\n",
              "      <td>69</td>\n",
              "      <td>0.309877</td>\n",
              "      <td>0.460613</td>\n",
              "      <td>0.827243</td>\n",
              "      <td>00:49</td>\n",
              "    </tr>\n",
              "    <tr>\n",
              "      <td>70</td>\n",
              "      <td>0.309221</td>\n",
              "      <td>1.219683</td>\n",
              "      <td>0.591362</td>\n",
              "      <td>00:51</td>\n",
              "    </tr>\n",
              "    <tr>\n",
              "      <td>71</td>\n",
              "      <td>0.286329</td>\n",
              "      <td>0.294004</td>\n",
              "      <td>0.877076</td>\n",
              "      <td>00:48</td>\n",
              "    </tr>\n",
              "    <tr>\n",
              "      <td>72</td>\n",
              "      <td>0.268207</td>\n",
              "      <td>0.309011</td>\n",
              "      <td>0.857143</td>\n",
              "      <td>00:51</td>\n",
              "    </tr>\n",
              "    <tr>\n",
              "      <td>73</td>\n",
              "      <td>0.277618</td>\n",
              "      <td>0.393002</td>\n",
              "      <td>0.847176</td>\n",
              "      <td>00:50</td>\n",
              "    </tr>\n",
              "    <tr>\n",
              "      <td>74</td>\n",
              "      <td>0.278637</td>\n",
              "      <td>2.619779</td>\n",
              "      <td>0.627907</td>\n",
              "      <td>00:52</td>\n",
              "    </tr>\n",
              "    <tr>\n",
              "      <td>75</td>\n",
              "      <td>0.269742</td>\n",
              "      <td>0.591766</td>\n",
              "      <td>0.797342</td>\n",
              "      <td>00:53</td>\n",
              "    </tr>\n",
              "    <tr>\n",
              "      <td>76</td>\n",
              "      <td>0.258157</td>\n",
              "      <td>0.373288</td>\n",
              "      <td>0.847176</td>\n",
              "      <td>00:51</td>\n",
              "    </tr>\n",
              "    <tr>\n",
              "      <td>77</td>\n",
              "      <td>0.242705</td>\n",
              "      <td>0.591901</td>\n",
              "      <td>0.777409</td>\n",
              "      <td>00:53</td>\n",
              "    </tr>\n",
              "    <tr>\n",
              "      <td>78</td>\n",
              "      <td>0.247136</td>\n",
              "      <td>1.028910</td>\n",
              "      <td>0.727575</td>\n",
              "      <td>00:51</td>\n",
              "    </tr>\n",
              "    <tr>\n",
              "      <td>79</td>\n",
              "      <td>0.252408</td>\n",
              "      <td>0.655133</td>\n",
              "      <td>0.770764</td>\n",
              "      <td>00:50</td>\n",
              "    </tr>\n",
              "    <tr>\n",
              "      <td>80</td>\n",
              "      <td>0.238569</td>\n",
              "      <td>0.402648</td>\n",
              "      <td>0.853821</td>\n",
              "      <td>00:52</td>\n",
              "    </tr>\n",
              "    <tr>\n",
              "      <td>81</td>\n",
              "      <td>0.240210</td>\n",
              "      <td>0.956026</td>\n",
              "      <td>0.734219</td>\n",
              "      <td>00:51</td>\n",
              "    </tr>\n",
              "    <tr>\n",
              "      <td>82</td>\n",
              "      <td>0.235593</td>\n",
              "      <td>0.646433</td>\n",
              "      <td>0.797342</td>\n",
              "      <td>00:50</td>\n",
              "    </tr>\n",
              "    <tr>\n",
              "      <td>83</td>\n",
              "      <td>0.237914</td>\n",
              "      <td>0.308969</td>\n",
              "      <td>0.897010</td>\n",
              "      <td>00:51</td>\n",
              "    </tr>\n",
              "    <tr>\n",
              "      <td>84</td>\n",
              "      <td>0.221475</td>\n",
              "      <td>0.361539</td>\n",
              "      <td>0.850498</td>\n",
              "      <td>00:49</td>\n",
              "    </tr>\n",
              "    <tr>\n",
              "      <td>85</td>\n",
              "      <td>0.224385</td>\n",
              "      <td>0.321968</td>\n",
              "      <td>0.870432</td>\n",
              "      <td>00:51</td>\n",
              "    </tr>\n",
              "    <tr>\n",
              "      <td>86</td>\n",
              "      <td>0.220552</td>\n",
              "      <td>0.325450</td>\n",
              "      <td>0.873754</td>\n",
              "      <td>00:51</td>\n",
              "    </tr>\n",
              "    <tr>\n",
              "      <td>87</td>\n",
              "      <td>0.230815</td>\n",
              "      <td>0.369613</td>\n",
              "      <td>0.833887</td>\n",
              "      <td>00:50</td>\n",
              "    </tr>\n",
              "    <tr>\n",
              "      <td>88</td>\n",
              "      <td>0.217915</td>\n",
              "      <td>0.528223</td>\n",
              "      <td>0.837209</td>\n",
              "      <td>00:51</td>\n",
              "    </tr>\n",
              "    <tr>\n",
              "      <td>89</td>\n",
              "      <td>0.218759</td>\n",
              "      <td>0.285098</td>\n",
              "      <td>0.883721</td>\n",
              "      <td>00:51</td>\n",
              "    </tr>\n",
              "    <tr>\n",
              "      <td>90</td>\n",
              "      <td>0.203634</td>\n",
              "      <td>0.314485</td>\n",
              "      <td>0.873754</td>\n",
              "      <td>00:50</td>\n",
              "    </tr>\n",
              "    <tr>\n",
              "      <td>91</td>\n",
              "      <td>0.195000</td>\n",
              "      <td>0.315501</td>\n",
              "      <td>0.877076</td>\n",
              "      <td>00:50</td>\n",
              "    </tr>\n",
              "    <tr>\n",
              "      <td>92</td>\n",
              "      <td>0.205853</td>\n",
              "      <td>0.345595</td>\n",
              "      <td>0.877076</td>\n",
              "      <td>00:50</td>\n",
              "    </tr>\n",
              "    <tr>\n",
              "      <td>93</td>\n",
              "      <td>0.194691</td>\n",
              "      <td>0.322046</td>\n",
              "      <td>0.890365</td>\n",
              "      <td>00:50</td>\n",
              "    </tr>\n",
              "    <tr>\n",
              "      <td>94</td>\n",
              "      <td>0.207149</td>\n",
              "      <td>0.318805</td>\n",
              "      <td>0.887043</td>\n",
              "      <td>00:51</td>\n",
              "    </tr>\n",
              "    <tr>\n",
              "      <td>95</td>\n",
              "      <td>0.194986</td>\n",
              "      <td>0.331001</td>\n",
              "      <td>0.880399</td>\n",
              "      <td>00:50</td>\n",
              "    </tr>\n",
              "    <tr>\n",
              "      <td>96</td>\n",
              "      <td>0.189254</td>\n",
              "      <td>0.324897</td>\n",
              "      <td>0.880399</td>\n",
              "      <td>00:49</td>\n",
              "    </tr>\n",
              "    <tr>\n",
              "      <td>97</td>\n",
              "      <td>0.192771</td>\n",
              "      <td>0.318010</td>\n",
              "      <td>0.883721</td>\n",
              "      <td>00:51</td>\n",
              "    </tr>\n",
              "    <tr>\n",
              "      <td>98</td>\n",
              "      <td>0.186654</td>\n",
              "      <td>0.319474</td>\n",
              "      <td>0.880399</td>\n",
              "      <td>00:50</td>\n",
              "    </tr>\n",
              "    <tr>\n",
              "      <td>99</td>\n",
              "      <td>0.188216</td>\n",
              "      <td>0.315867</td>\n",
              "      <td>0.887043</td>\n",
              "      <td>00:49</td>\n",
              "    </tr>\n",
              "  </tbody>\n",
              "</table>"
            ],
            "text/plain": [
              "<IPython.core.display.HTML object>"
            ]
          },
          "metadata": {
            "tags": []
          }
        }
      ]
    },
    {
      "cell_type": "code",
      "metadata": {
        "colab": {
          "base_uri": "https://localhost:8080/",
          "height": 279
        },
        "id": "NNus9blvrfqV",
        "outputId": "bc7eee5a-1709-4824-856f-e4afa4c0d4fe"
      },
      "source": [
        "#This code is from Ozturk T, Talo M, Yildirim EA, Baloglu UB, Yildirim O, Acharya UR. Automated detection of COVID-19 cases using deep neural networks with X-ray images. Computers in biology and medicine. 2020 Jun 1;121:103792.\n",
        "\n",
        "#plots the train and validation loss after all of the training is over\n",
        "learn.recorder.plot_losses()"
      ],
      "execution_count": null,
      "outputs": [
        {
          "output_type": "display_data",
          "data": {
            "image/png": "[encoded data removed]",
            "text/plain": [
              "<Figure size 432x288 with 1 Axes>"
            ]
          },
          "metadata": {
            "tags": [],
            "needs_background": "light"
          }
        }
      ]
    },
    {
      "cell_type": "code",
      "metadata": {
        "colab": {
          "base_uri": "https://localhost:8080/"
        },
        "id": "p7cCWYBgriWn",
        "outputId": "c378f4f3-9363-4931-b87c-cde1a204f977"
      },
      "source": [
        "#This code is from Ozturk T, Talo M, Yildirim EA, Baloglu UB, Yildirim O, Acharya UR. Automated detection of COVID-19 cases using deep neural networks with X-ray images. Computers in biology and medicine. 2020 Jun 1;121:103792.\n",
        "\n",
        "print(\"Number of examples in testing:\", len(data.valid_ds))"
      ],
      "execution_count": null,
      "outputs": [
        {
          "output_type": "stream",
          "text": [
            "Number of examples in testing: 301\n"
          ],
          "name": "stdout"
        }
      ]
    },
    {
      "cell_type": "code",
      "metadata": {
        "colab": {
          "base_uri": "https://localhost:8080/",
          "height": 17
        },
        "id": "m9agQJN6rlBs",
        "outputId": "70763652-07db-44cb-edf1-0c02c3a2bda4"
      },
      "source": [
        "#This code is from Ozturk T, Talo M, Yildirim EA, Baloglu UB, Yildirim O, Acharya UR. Automated detection of COVID-19 cases using deep neural networks with X-ray images. Computers in biology and medicine. 2020 Jun 1;121:103792.\n",
        "\n",
        "#run the validation data through the model\n",
        "probs,targets = learn.get_preds(ds_type=DatasetType.Valid) # Predicting without TTA"
      ],
      "execution_count": null,
      "outputs": [
        {
          "output_type": "display_data",
          "data": {
            "text/html": [
              ""
            ],
            "text/plain": [
              "<IPython.core.display.HTML object>"
            ]
          },
          "metadata": {
            "tags": []
          }
        }
      ]
    },
    {
      "cell_type": "code",
      "metadata": {
        "colab": {
          "base_uri": "https://localhost:8080/"
        },
        "id": "wfCPqq8yrnvn",
        "outputId": "4e97c5d8-a577-42d5-af92-0cbea98082a1"
      },
      "source": [
        "#This code is from Ozturk T, Talo M, Yildirim EA, Baloglu UB, Yildirim O, Acharya UR. Automated detection of COVID-19 cases using deep neural networks with X-ray images. Computers in biology and medicine. 2020 Jun 1;121:103792.\n",
        "\n",
        "#show the accuracy of the probs and targets \n",
        "accuracy(probs,targets)"
      ],
      "execution_count": null,
      "outputs": [
        {
          "output_type": "execute_result",
          "data": {
            "text/plain": [
              "tensor(0.8870)"
            ]
          },
          "metadata": {
            "tags": []
          },
          "execution_count": 139
        }
      ]
    },
    {
      "cell_type": "code",
      "metadata": {
        "colab": {
          "base_uri": "https://localhost:8080/"
        },
        "id": "8lSUCIR-rr9G",
        "outputId": "4cb7eecc-f50b-4ffd-d827-9de20d63e087"
      },
      "source": [
        "#This code is from Ozturk T, Talo M, Yildirim EA, Baloglu UB, Yildirim O, Acharya UR. Automated detection of COVID-19 cases using deep neural networks with X-ray images. Computers in biology and medicine. 2020 Jun 1;121:103792.\n",
        "\n",
        "#This code gets the label from each class from the probs array \n",
        "probs = np.argmax(probs, axis=1)\n",
        "\n",
        "#determine how many labels correctly match \n",
        "correct = 0\n",
        "for idx, pred in enumerate(probs):\n",
        "    if pred == targets[idx]:\n",
        "        correct += 1\n",
        "accuracy = correct / len(probs)\n",
        "print(len(probs), correct, accuracy)\n",
        "\n",
        "#display confusion matrix\n",
        "from sklearn.metrics import confusion_matrix\n",
        "np.set_printoptions(threshold=np.inf) # shows whole confusion matrix\n",
        "cm1 = confusion_matrix(targets, probs)\n",
        "print(cm1)\n",
        "\n",
        "#display classification report with the three class labels \n",
        "from sklearn.metrics import classification_report\n",
        "y_true1 = targets\n",
        "y_pred1 = probs\n",
        "target_names = ['Covid-19', 'No_findings', 'Pneumonia']\n",
        "print(classification_report(y_true1, y_pred1, target_names=target_names))\n",
        "\n",
        "#show macro precision\n",
        "from sklearn.metrics import precision_score\n",
        "print('Precision',precision_score(y_true1, y_pred1, average='macro'))\n",
        "\n",
        "# show the macro f1 score \n",
        "from sklearn.metrics import f1_score\n",
        "print('F1-score',f1_score(y_true1, y_pred1, average='macro'))\n"
      ],
      "execution_count": null,
      "outputs": [
        {
          "output_type": "stream",
          "text": [
            "301 267 0.8870431893687708\n",
            "[[92  1  7]\n",
            " [ 0 93  7]\n",
            " [ 0 19 82]]\n",
            "              precision    recall  f1-score   support\n",
            "\n",
            "    Covid-19       1.00      0.92      0.96       100\n",
            " No_findings       0.82      0.93      0.87       100\n",
            "   Pneumonia       0.85      0.81      0.83       101\n",
            "\n",
            "    accuracy                           0.89       301\n",
            "   macro avg       0.89      0.89      0.89       301\n",
            "weighted avg       0.89      0.89      0.89       301\n",
            "\n",
            "Precision 0.8923918387413963\n",
            "F1-score 0.888020026532574\n"
          ],
          "name": "stdout"
        }
      ]
    },
    {
      "cell_type": "code",
      "metadata": {
        "colab": {
          "base_uri": "https://localhost:8080/",
          "height": 17
        },
        "id": "HUjIxH79rumW",
        "outputId": "7f6ddf9d-cf79-408a-ff5d-1d54d3a65371"
      },
      "source": [
        "#This code is from Ozturk T, Talo M, Yildirim EA, Baloglu UB, Yildirim O, Acharya UR. Automated detection of COVID-19 cases using deep neural networks with X-ray images. Computers in biology and medicine. 2020 Jun 1;121:103792.\n",
        "\n",
        "#creates an interpreter object of the validation data from the model \n",
        "interp = ClassificationInterpretation.from_learner(learn)"
      ],
      "execution_count": null,
      "outputs": [
        {
          "output_type": "display_data",
          "data": {
            "text/html": [
              ""
            ],
            "text/plain": [
              "<IPython.core.display.HTML object>"
            ]
          },
          "metadata": {
            "tags": []
          }
        }
      ]
    },
    {
      "cell_type": "code",
      "metadata": {
        "colab": {
          "base_uri": "https://localhost:8080/",
          "height": 311
        },
        "id": "uGTa7LTz1OhY",
        "outputId": "6cabc83b-7c7d-460f-a274-4a46773e3e78"
      },
      "source": [
        "#This code is from Ozturk T, Talo M, Yildirim EA, Baloglu UB, Yildirim O, Acharya UR. Automated detection of COVID-19 cases using deep neural networks with X-ray images. Computers in biology and medicine. 2020 Jun 1;121:103792.\n",
        "\n",
        "#display the confusion matrix of the validation data \n",
        "cm_fig = interp.plot_confusion_matrix(return_fig=True)\n",
        "ax = cm_fig.gca()\n",
        "ax.set_ylim(interp.data.c - .5, - .5);"
      ],
      "execution_count": null,
      "outputs": [
        {
          "output_type": "display_data",
          "data": {
            "image/png": "[encoded data removed]",
            "text/plain": [
              "<Figure size 432x288 with 1 Axes>"
            ]
          },
          "metadata": {
            "tags": [],
            "needs_background": "light"
          }
        }
      ]
    },
    {
      "cell_type": "markdown",
      "metadata": {
        "id": "h91If1KqyYoD"
      },
      "source": [
        "# Model 3 - Decreasing the depth of the model \n",
        "\n",
        "- Please note this model was added after the code demo Teams meeting with the TA\n",
        "\n",
        "- In this section of the code, I modify the DarkCovidNet architecure (from Ozturk T, Talo M, Yildirim EA, Baloglu UB, Yildirim O, Acharya UR. Automated detection of COVID-19 cases using deep neural networks with X-ray images. Computers in biology and medicine. 2020 Jun 1;121:103792)\n",
        "\n",
        "- The model uses the balanced dataset (about 500 COVID-19 images)\n",
        "\n",
        "- I modified the kernel output sizes of each layer, starting at 64 instead of 8. \n",
        "\n",
        "- From the original DarkCovidNet model, I removed the last triple convolution block and one of the final convolutional blocks deep in the network. \n",
        "\n",
        "- I also add an additional Linear layer (fully connected layer) after the Flattened layer with a LeakyRelu activation function in the middle of the two Linear layers.\n"
      ]
    },
    {
      "cell_type": "code",
      "metadata": {
        "id": "4Ak340EDythd"
      },
      "source": [
        "#This code is a modified version of code from Ozturk T, Talo M, Yildirim EA, Baloglu UB, Yildirim O, Acharya UR. Automated detection of COVID-19 cases using deep neural networks with X-ray images. Computers in biology and medicine. 2020 Jun 1;121:103792.\n",
        "\n",
        "model3 = nn.Sequential(\n",
        "    conv_block(3, 64),\n",
        "    maxpooling(),\n",
        "    conv_block(64, 128),\n",
        "    maxpooling(),\n",
        "    triple_conv(128, 64),\n",
        "    maxpooling(),\n",
        "    triple_conv(64, 128),\n",
        "    maxpooling(),\n",
        "    triple_conv(128, 256),\n",
        "    maxpooling(),\n",
        "    conv_block(256, 128, size=1),\n",
        "    conv_layer(128, 3),\n",
        "    Flatten(),\n",
        "    nn.Linear(363,507),\n",
        "    nn.LeakyReLU(negative_slope=0.1, inplace=True),\n",
        "    nn.Linear(507, 3),\n",
        ")"
      ],
      "execution_count": null,
      "outputs": []
    },
    {
      "cell_type": "code",
      "metadata": {
        "id": "IIn4YKQtyxa0"
      },
      "source": [
        "#This code is from Ozturk T, Talo M, Yildirim EA, Baloglu UB, Yildirim O, Acharya UR. Automated detection of COVID-19 cases using deep neural networks with X-ray images. Computers in biology and medicine. 2020 Jun 1;121:103792.\n",
        "\n",
        "#This sets up the model specificying the data to use, model, cross entropy loss and metrics to visualize\n",
        "learn = Learner(data, model3, loss_func = nn.CrossEntropyLoss(), metrics=accuracy)"
      ],
      "execution_count": null,
      "outputs": []
    },
    {
      "cell_type": "code",
      "metadata": {
        "colab": {
          "base_uri": "https://localhost:8080/"
        },
        "id": "n0JVH5ity1j4",
        "outputId": "d56a0210-e228-4df8-e984-191612a435be"
      },
      "source": [
        "#This code is from Ozturk T, Talo M, Yildirim EA, Baloglu UB, Yildirim O, Acharya UR. Automated detection of COVID-19 cases using deep neural networks with X-ray images. Computers in biology and medicine. 2020 Jun 1;121:103792.\n",
        "\n",
        "#Print the overall architecture of the model and visualize the shape of each output\n",
        "print(learn.summary())"
      ],
      "execution_count": null,
      "outputs": [
        {
          "output_type": "stream",
          "text": [
            "Sequential\n",
            "======================================================================\n",
            "Layer (type)         Output Shape         Param #    Trainable \n",
            "======================================================================\n",
            "Conv2d               [64, 256, 256]       1,728      True      \n",
            "______________________________________________________________________\n",
            "BatchNorm2d          [64, 256, 256]       128        True      \n",
            "______________________________________________________________________\n",
            "LeakyReLU            [64, 256, 256]       0          False     \n",
            "______________________________________________________________________\n",
            "MaxPool2d            [64, 128, 128]       0          False     \n",
            "______________________________________________________________________\n",
            "Conv2d               [128, 128, 128]      73,728     True      \n",
            "______________________________________________________________________\n",
            "BatchNorm2d          [128, 128, 128]      256        True      \n",
            "______________________________________________________________________\n",
            "LeakyReLU            [128, 128, 128]      0          False     \n",
            "______________________________________________________________________\n",
            "MaxPool2d            [128, 64, 64]        0          False     \n",
            "______________________________________________________________________\n",
            "Conv2d               [64, 64, 64]         73,728     True      \n",
            "______________________________________________________________________\n",
            "BatchNorm2d          [64, 64, 64]         128        True      \n",
            "______________________________________________________________________\n",
            "LeakyReLU            [64, 64, 64]         0          False     \n",
            "______________________________________________________________________\n",
            "Conv2d               [128, 66, 66]        8,192      True      \n",
            "______________________________________________________________________\n",
            "BatchNorm2d          [128, 66, 66]        256        True      \n",
            "______________________________________________________________________\n",
            "LeakyReLU            [128, 66, 66]        0          False     \n",
            "______________________________________________________________________\n",
            "Conv2d               [64, 66, 66]         73,728     True      \n",
            "______________________________________________________________________\n",
            "BatchNorm2d          [64, 66, 66]         128        True      \n",
            "______________________________________________________________________\n",
            "LeakyReLU            [64, 66, 66]         0          False     \n",
            "______________________________________________________________________\n",
            "MaxPool2d            [64, 33, 33]         0          False     \n",
            "______________________________________________________________________\n",
            "Conv2d               [128, 33, 33]        73,728     True      \n",
            "______________________________________________________________________\n",
            "BatchNorm2d          [128, 33, 33]        256        True      \n",
            "______________________________________________________________________\n",
            "LeakyReLU            [128, 33, 33]        0          False     \n",
            "______________________________________________________________________\n",
            "Conv2d               [64, 35, 35]         8,192      True      \n",
            "______________________________________________________________________\n",
            "BatchNorm2d          [64, 35, 35]         128        True      \n",
            "______________________________________________________________________\n",
            "LeakyReLU            [64, 35, 35]         0          False     \n",
            "______________________________________________________________________\n",
            "Conv2d               [128, 35, 35]        73,728     True      \n",
            "______________________________________________________________________\n",
            "BatchNorm2d          [128, 35, 35]        256        True      \n",
            "______________________________________________________________________\n",
            "LeakyReLU            [128, 35, 35]        0          False     \n",
            "______________________________________________________________________\n",
            "MaxPool2d            [128, 17, 17]        0          False     \n",
            "______________________________________________________________________\n",
            "Conv2d               [256, 17, 17]        294,912    True      \n",
            "______________________________________________________________________\n",
            "BatchNorm2d          [256, 17, 17]        512        True      \n",
            "______________________________________________________________________\n",
            "LeakyReLU            [256, 17, 17]        0          False     \n",
            "______________________________________________________________________\n",
            "Conv2d               [128, 19, 19]        32,768     True      \n",
            "______________________________________________________________________\n",
            "BatchNorm2d          [128, 19, 19]        256        True      \n",
            "______________________________________________________________________\n",
            "LeakyReLU            [128, 19, 19]        0          False     \n",
            "______________________________________________________________________\n",
            "Conv2d               [256, 19, 19]        294,912    True      \n",
            "______________________________________________________________________\n",
            "BatchNorm2d          [256, 19, 19]        512        True      \n",
            "______________________________________________________________________\n",
            "LeakyReLU            [256, 19, 19]        0          False     \n",
            "______________________________________________________________________\n",
            "MaxPool2d            [256, 9, 9]          0          False     \n",
            "______________________________________________________________________\n",
            "Conv2d               [128, 11, 11]        32,768     True      \n",
            "______________________________________________________________________\n",
            "BatchNorm2d          [128, 11, 11]        256        True      \n",
            "______________________________________________________________________\n",
            "LeakyReLU            [128, 11, 11]        0          False     \n",
            "______________________________________________________________________\n",
            "Conv2d               [3, 11, 11]          3,456      True      \n",
            "______________________________________________________________________\n",
            "ReLU                 [3, 11, 11]          0          False     \n",
            "______________________________________________________________________\n",
            "BatchNorm2d          [3, 11, 11]          6          True      \n",
            "______________________________________________________________________\n",
            "Flatten              [363]                0          False     \n",
            "______________________________________________________________________\n",
            "Linear               [507]                184,548    True      \n",
            "______________________________________________________________________\n",
            "LeakyReLU            [507]                0          False     \n",
            "______________________________________________________________________\n",
            "Linear               [3]                  1,524      True      \n",
            "______________________________________________________________________\n",
            "\n",
            "Total params: 1,234,718\n",
            "Total trainable params: 1,234,718\n",
            "Total non-trainable params: 0\n",
            "Optimized with 'torch.optim.adam.Adam', betas=(0.9, 0.99)\n",
            "Using true weight decay as discussed in https://www.fast.ai/2018/07/02/adam-weight-decay/ \n",
            "Loss function : CrossEntropyLoss\n",
            "======================================================================\n",
            "Callbacks functions applied \n",
            "\n"
          ],
          "name": "stdout"
        }
      ]
    },
    {
      "cell_type": "code",
      "metadata": {
        "colab": {
          "base_uri": "https://localhost:8080/",
          "height": 1000
        },
        "id": "VjVFTU8Uy2VA",
        "outputId": "925ee435-bd46-4177-9c3f-e0f8bd57bf17"
      },
      "source": [
        "#This code is from Ozturk T, Talo M, Yildirim EA, Baloglu UB, Yildirim O, Acharya UR. Automated detection of COVID-19 cases using deep neural networks with X-ray images. Computers in biology and medicine. 2020 Jun 1;121:103792.\n",
        "\n",
        "#train with 100 epochs and max learning rate of up to 0.0003\n",
        "learn.fit_one_cycle(100, max_lr=3e-3)"
      ],
      "execution_count": null,
      "outputs": [
        {
          "output_type": "display_data",
          "data": {
            "text/html": [
              "<table border=\"1\" class=\"dataframe\">\n",
              "  <thead>\n",
              "    <tr style=\"text-align: left;\">\n",
              "      <th>epoch</th>\n",
              "      <th>train_loss</th>\n",
              "      <th>valid_loss</th>\n",
              "      <th>accuracy</th>\n",
              "      <th>time</th>\n",
              "    </tr>\n",
              "  </thead>\n",
              "  <tbody>\n",
              "    <tr>\n",
              "      <td>0</td>\n",
              "      <td>0.922230</td>\n",
              "      <td>1.056178</td>\n",
              "      <td>0.428571</td>\n",
              "      <td>02:29</td>\n",
              "    </tr>\n",
              "    <tr>\n",
              "      <td>1</td>\n",
              "      <td>0.797044</td>\n",
              "      <td>0.700684</td>\n",
              "      <td>0.684385</td>\n",
              "      <td>00:45</td>\n",
              "    </tr>\n",
              "    <tr>\n",
              "      <td>2</td>\n",
              "      <td>0.735586</td>\n",
              "      <td>0.738262</td>\n",
              "      <td>0.694352</td>\n",
              "      <td>00:45</td>\n",
              "    </tr>\n",
              "    <tr>\n",
              "      <td>3</td>\n",
              "      <td>0.699087</td>\n",
              "      <td>0.521081</td>\n",
              "      <td>0.790698</td>\n",
              "      <td>00:45</td>\n",
              "    </tr>\n",
              "    <tr>\n",
              "      <td>4</td>\n",
              "      <td>0.597956</td>\n",
              "      <td>1.767123</td>\n",
              "      <td>0.438538</td>\n",
              "      <td>00:45</td>\n",
              "    </tr>\n",
              "    <tr>\n",
              "      <td>5</td>\n",
              "      <td>0.554327</td>\n",
              "      <td>1.075117</td>\n",
              "      <td>0.495017</td>\n",
              "      <td>00:45</td>\n",
              "    </tr>\n",
              "    <tr>\n",
              "      <td>6</td>\n",
              "      <td>0.524509</td>\n",
              "      <td>0.539673</td>\n",
              "      <td>0.767442</td>\n",
              "      <td>00:46</td>\n",
              "    </tr>\n",
              "    <tr>\n",
              "      <td>7</td>\n",
              "      <td>0.522224</td>\n",
              "      <td>0.884734</td>\n",
              "      <td>0.621262</td>\n",
              "      <td>00:46</td>\n",
              "    </tr>\n",
              "    <tr>\n",
              "      <td>8</td>\n",
              "      <td>0.494858</td>\n",
              "      <td>1.429947</td>\n",
              "      <td>0.498339</td>\n",
              "      <td>00:46</td>\n",
              "    </tr>\n",
              "    <tr>\n",
              "      <td>9</td>\n",
              "      <td>0.513621</td>\n",
              "      <td>1.347185</td>\n",
              "      <td>0.571429</td>\n",
              "      <td>00:46</td>\n",
              "    </tr>\n",
              "    <tr>\n",
              "      <td>10</td>\n",
              "      <td>0.489441</td>\n",
              "      <td>6.550192</td>\n",
              "      <td>0.385382</td>\n",
              "      <td>00:46</td>\n",
              "    </tr>\n",
              "    <tr>\n",
              "      <td>11</td>\n",
              "      <td>0.475916</td>\n",
              "      <td>5.468572</td>\n",
              "      <td>0.418605</td>\n",
              "      <td>00:46</td>\n",
              "    </tr>\n",
              "    <tr>\n",
              "      <td>12</td>\n",
              "      <td>0.522705</td>\n",
              "      <td>2.184100</td>\n",
              "      <td>0.431894</td>\n",
              "      <td>00:46</td>\n",
              "    </tr>\n",
              "    <tr>\n",
              "      <td>13</td>\n",
              "      <td>0.585164</td>\n",
              "      <td>3.914348</td>\n",
              "      <td>0.338870</td>\n",
              "      <td>00:46</td>\n",
              "    </tr>\n",
              "    <tr>\n",
              "      <td>14</td>\n",
              "      <td>0.539425</td>\n",
              "      <td>0.619552</td>\n",
              "      <td>0.750831</td>\n",
              "      <td>00:46</td>\n",
              "    </tr>\n",
              "    <tr>\n",
              "      <td>15</td>\n",
              "      <td>0.592179</td>\n",
              "      <td>0.700729</td>\n",
              "      <td>0.704319</td>\n",
              "      <td>00:46</td>\n",
              "    </tr>\n",
              "    <tr>\n",
              "      <td>16</td>\n",
              "      <td>0.585329</td>\n",
              "      <td>1.127540</td>\n",
              "      <td>0.624585</td>\n",
              "      <td>00:46</td>\n",
              "    </tr>\n",
              "    <tr>\n",
              "      <td>17</td>\n",
              "      <td>0.581995</td>\n",
              "      <td>3.310868</td>\n",
              "      <td>0.504983</td>\n",
              "      <td>00:46</td>\n",
              "    </tr>\n",
              "    <tr>\n",
              "      <td>18</td>\n",
              "      <td>0.592947</td>\n",
              "      <td>2.190492</td>\n",
              "      <td>0.358804</td>\n",
              "      <td>00:47</td>\n",
              "    </tr>\n",
              "    <tr>\n",
              "      <td>19</td>\n",
              "      <td>0.585710</td>\n",
              "      <td>1.379753</td>\n",
              "      <td>0.584718</td>\n",
              "      <td>00:46</td>\n",
              "    </tr>\n",
              "    <tr>\n",
              "      <td>20</td>\n",
              "      <td>0.528317</td>\n",
              "      <td>1.251015</td>\n",
              "      <td>0.534884</td>\n",
              "      <td>00:46</td>\n",
              "    </tr>\n",
              "    <tr>\n",
              "      <td>21</td>\n",
              "      <td>0.532638</td>\n",
              "      <td>7.463558</td>\n",
              "      <td>0.328904</td>\n",
              "      <td>00:46</td>\n",
              "    </tr>\n",
              "    <tr>\n",
              "      <td>22</td>\n",
              "      <td>0.538257</td>\n",
              "      <td>0.498072</td>\n",
              "      <td>0.787375</td>\n",
              "      <td>00:47</td>\n",
              "    </tr>\n",
              "    <tr>\n",
              "      <td>23</td>\n",
              "      <td>0.592032</td>\n",
              "      <td>1.530244</td>\n",
              "      <td>0.508306</td>\n",
              "      <td>00:47</td>\n",
              "    </tr>\n",
              "    <tr>\n",
              "      <td>24</td>\n",
              "      <td>0.581761</td>\n",
              "      <td>2.800405</td>\n",
              "      <td>0.478405</td>\n",
              "      <td>00:47</td>\n",
              "    </tr>\n",
              "    <tr>\n",
              "      <td>25</td>\n",
              "      <td>0.524272</td>\n",
              "      <td>1.688766</td>\n",
              "      <td>0.598007</td>\n",
              "      <td>00:47</td>\n",
              "    </tr>\n",
              "    <tr>\n",
              "      <td>26</td>\n",
              "      <td>0.543114</td>\n",
              "      <td>0.794658</td>\n",
              "      <td>0.710963</td>\n",
              "      <td>00:46</td>\n",
              "    </tr>\n",
              "    <tr>\n",
              "      <td>27</td>\n",
              "      <td>0.533189</td>\n",
              "      <td>1.139901</td>\n",
              "      <td>0.588040</td>\n",
              "      <td>00:47</td>\n",
              "    </tr>\n",
              "    <tr>\n",
              "      <td>28</td>\n",
              "      <td>0.533521</td>\n",
              "      <td>2.020221</td>\n",
              "      <td>0.438538</td>\n",
              "      <td>00:46</td>\n",
              "    </tr>\n",
              "    <tr>\n",
              "      <td>29</td>\n",
              "      <td>0.504947</td>\n",
              "      <td>8.729645</td>\n",
              "      <td>0.401993</td>\n",
              "      <td>00:46</td>\n",
              "    </tr>\n",
              "    <tr>\n",
              "      <td>30</td>\n",
              "      <td>0.470760</td>\n",
              "      <td>3.387516</td>\n",
              "      <td>0.428571</td>\n",
              "      <td>00:47</td>\n",
              "    </tr>\n",
              "    <tr>\n",
              "      <td>31</td>\n",
              "      <td>0.482862</td>\n",
              "      <td>0.785303</td>\n",
              "      <td>0.704319</td>\n",
              "      <td>00:47</td>\n",
              "    </tr>\n",
              "    <tr>\n",
              "      <td>32</td>\n",
              "      <td>0.487754</td>\n",
              "      <td>3.547580</td>\n",
              "      <td>0.514950</td>\n",
              "      <td>00:46</td>\n",
              "    </tr>\n",
              "    <tr>\n",
              "      <td>33</td>\n",
              "      <td>0.470156</td>\n",
              "      <td>4.703101</td>\n",
              "      <td>0.435216</td>\n",
              "      <td>00:46</td>\n",
              "    </tr>\n",
              "    <tr>\n",
              "      <td>34</td>\n",
              "      <td>0.473184</td>\n",
              "      <td>7.409872</td>\n",
              "      <td>0.425249</td>\n",
              "      <td>00:47</td>\n",
              "    </tr>\n",
              "    <tr>\n",
              "      <td>35</td>\n",
              "      <td>0.445996</td>\n",
              "      <td>1.464836</td>\n",
              "      <td>0.491694</td>\n",
              "      <td>00:46</td>\n",
              "    </tr>\n",
              "    <tr>\n",
              "      <td>36</td>\n",
              "      <td>0.444262</td>\n",
              "      <td>7.089849</td>\n",
              "      <td>0.365449</td>\n",
              "      <td>00:48</td>\n",
              "    </tr>\n",
              "    <tr>\n",
              "      <td>37</td>\n",
              "      <td>0.445036</td>\n",
              "      <td>5.358405</td>\n",
              "      <td>0.418605</td>\n",
              "      <td>00:47</td>\n",
              "    </tr>\n",
              "    <tr>\n",
              "      <td>38</td>\n",
              "      <td>0.420168</td>\n",
              "      <td>0.784118</td>\n",
              "      <td>0.667774</td>\n",
              "      <td>00:47</td>\n",
              "    </tr>\n",
              "    <tr>\n",
              "      <td>39</td>\n",
              "      <td>0.418830</td>\n",
              "      <td>2.455915</td>\n",
              "      <td>0.571429</td>\n",
              "      <td>00:47</td>\n",
              "    </tr>\n",
              "    <tr>\n",
              "      <td>40</td>\n",
              "      <td>0.411732</td>\n",
              "      <td>0.587908</td>\n",
              "      <td>0.780731</td>\n",
              "      <td>00:48</td>\n",
              "    </tr>\n",
              "    <tr>\n",
              "      <td>41</td>\n",
              "      <td>0.450904</td>\n",
              "      <td>6.154066</td>\n",
              "      <td>0.372093</td>\n",
              "      <td>00:47</td>\n",
              "    </tr>\n",
              "    <tr>\n",
              "      <td>42</td>\n",
              "      <td>0.457477</td>\n",
              "      <td>0.496341</td>\n",
              "      <td>0.750831</td>\n",
              "      <td>00:47</td>\n",
              "    </tr>\n",
              "    <tr>\n",
              "      <td>43</td>\n",
              "      <td>0.428776</td>\n",
              "      <td>1.159848</td>\n",
              "      <td>0.611296</td>\n",
              "      <td>00:47</td>\n",
              "    </tr>\n",
              "    <tr>\n",
              "      <td>44</td>\n",
              "      <td>0.424565</td>\n",
              "      <td>0.389832</td>\n",
              "      <td>0.857143</td>\n",
              "      <td>00:47</td>\n",
              "    </tr>\n",
              "    <tr>\n",
              "      <td>45</td>\n",
              "      <td>0.408623</td>\n",
              "      <td>3.222680</td>\n",
              "      <td>0.485050</td>\n",
              "      <td>00:47</td>\n",
              "    </tr>\n",
              "    <tr>\n",
              "      <td>46</td>\n",
              "      <td>0.394721</td>\n",
              "      <td>0.558919</td>\n",
              "      <td>0.803987</td>\n",
              "      <td>00:47</td>\n",
              "    </tr>\n",
              "    <tr>\n",
              "      <td>47</td>\n",
              "      <td>0.387962</td>\n",
              "      <td>6.995985</td>\n",
              "      <td>0.428571</td>\n",
              "      <td>00:47</td>\n",
              "    </tr>\n",
              "    <tr>\n",
              "      <td>48</td>\n",
              "      <td>0.385624</td>\n",
              "      <td>0.440652</td>\n",
              "      <td>0.833887</td>\n",
              "      <td>00:46</td>\n",
              "    </tr>\n",
              "    <tr>\n",
              "      <td>49</td>\n",
              "      <td>0.400904</td>\n",
              "      <td>0.593856</td>\n",
              "      <td>0.754153</td>\n",
              "      <td>00:46</td>\n",
              "    </tr>\n",
              "    <tr>\n",
              "      <td>50</td>\n",
              "      <td>0.377382</td>\n",
              "      <td>1.487866</td>\n",
              "      <td>0.614618</td>\n",
              "      <td>00:47</td>\n",
              "    </tr>\n",
              "    <tr>\n",
              "      <td>51</td>\n",
              "      <td>0.366884</td>\n",
              "      <td>1.687546</td>\n",
              "      <td>0.528239</td>\n",
              "      <td>00:47</td>\n",
              "    </tr>\n",
              "    <tr>\n",
              "      <td>52</td>\n",
              "      <td>0.343399</td>\n",
              "      <td>1.448834</td>\n",
              "      <td>0.601329</td>\n",
              "      <td>00:47</td>\n",
              "    </tr>\n",
              "    <tr>\n",
              "      <td>53</td>\n",
              "      <td>0.347701</td>\n",
              "      <td>2.747596</td>\n",
              "      <td>0.471761</td>\n",
              "      <td>00:47</td>\n",
              "    </tr>\n",
              "    <tr>\n",
              "      <td>54</td>\n",
              "      <td>0.347327</td>\n",
              "      <td>0.756854</td>\n",
              "      <td>0.710963</td>\n",
              "      <td>00:47</td>\n",
              "    </tr>\n",
              "    <tr>\n",
              "      <td>55</td>\n",
              "      <td>0.347375</td>\n",
              "      <td>0.452577</td>\n",
              "      <td>0.827243</td>\n",
              "      <td>00:46</td>\n",
              "    </tr>\n",
              "    <tr>\n",
              "      <td>56</td>\n",
              "      <td>0.340034</td>\n",
              "      <td>0.479964</td>\n",
              "      <td>0.800664</td>\n",
              "      <td>00:47</td>\n",
              "    </tr>\n",
              "    <tr>\n",
              "      <td>57</td>\n",
              "      <td>0.336517</td>\n",
              "      <td>4.173415</td>\n",
              "      <td>0.511628</td>\n",
              "      <td>00:47</td>\n",
              "    </tr>\n",
              "    <tr>\n",
              "      <td>58</td>\n",
              "      <td>0.324500</td>\n",
              "      <td>0.596645</td>\n",
              "      <td>0.767442</td>\n",
              "      <td>00:46</td>\n",
              "    </tr>\n",
              "    <tr>\n",
              "      <td>59</td>\n",
              "      <td>0.302609</td>\n",
              "      <td>0.811024</td>\n",
              "      <td>0.740864</td>\n",
              "      <td>00:46</td>\n",
              "    </tr>\n",
              "    <tr>\n",
              "      <td>60</td>\n",
              "      <td>0.297234</td>\n",
              "      <td>0.407280</td>\n",
              "      <td>0.870432</td>\n",
              "      <td>00:48</td>\n",
              "    </tr>\n",
              "    <tr>\n",
              "      <td>61</td>\n",
              "      <td>0.294203</td>\n",
              "      <td>0.740581</td>\n",
              "      <td>0.740864</td>\n",
              "      <td>00:47</td>\n",
              "    </tr>\n",
              "    <tr>\n",
              "      <td>62</td>\n",
              "      <td>0.307147</td>\n",
              "      <td>1.918785</td>\n",
              "      <td>0.654485</td>\n",
              "      <td>00:47</td>\n",
              "    </tr>\n",
              "    <tr>\n",
              "      <td>63</td>\n",
              "      <td>0.306949</td>\n",
              "      <td>1.094059</td>\n",
              "      <td>0.611296</td>\n",
              "      <td>00:46</td>\n",
              "    </tr>\n",
              "    <tr>\n",
              "      <td>64</td>\n",
              "      <td>0.301490</td>\n",
              "      <td>5.044850</td>\n",
              "      <td>0.455150</td>\n",
              "      <td>00:47</td>\n",
              "    </tr>\n",
              "    <tr>\n",
              "      <td>65</td>\n",
              "      <td>0.289030</td>\n",
              "      <td>0.756721</td>\n",
              "      <td>0.704319</td>\n",
              "      <td>00:46</td>\n",
              "    </tr>\n",
              "    <tr>\n",
              "      <td>66</td>\n",
              "      <td>0.275646</td>\n",
              "      <td>0.337094</td>\n",
              "      <td>0.877076</td>\n",
              "      <td>00:47</td>\n",
              "    </tr>\n",
              "    <tr>\n",
              "      <td>67</td>\n",
              "      <td>0.272229</td>\n",
              "      <td>0.479367</td>\n",
              "      <td>0.807309</td>\n",
              "      <td>00:47</td>\n",
              "    </tr>\n",
              "    <tr>\n",
              "      <td>68</td>\n",
              "      <td>0.262744</td>\n",
              "      <td>0.320058</td>\n",
              "      <td>0.863787</td>\n",
              "      <td>00:46</td>\n",
              "    </tr>\n",
              "    <tr>\n",
              "      <td>69</td>\n",
              "      <td>0.273051</td>\n",
              "      <td>0.932583</td>\n",
              "      <td>0.684385</td>\n",
              "      <td>00:48</td>\n",
              "    </tr>\n",
              "    <tr>\n",
              "      <td>70</td>\n",
              "      <td>0.290929</td>\n",
              "      <td>0.557834</td>\n",
              "      <td>0.794020</td>\n",
              "      <td>00:47</td>\n",
              "    </tr>\n",
              "    <tr>\n",
              "      <td>71</td>\n",
              "      <td>0.286044</td>\n",
              "      <td>0.539994</td>\n",
              "      <td>0.820598</td>\n",
              "      <td>00:46</td>\n",
              "    </tr>\n",
              "    <tr>\n",
              "      <td>72</td>\n",
              "      <td>0.267952</td>\n",
              "      <td>0.593612</td>\n",
              "      <td>0.787375</td>\n",
              "      <td>00:47</td>\n",
              "    </tr>\n",
              "    <tr>\n",
              "      <td>73</td>\n",
              "      <td>0.267630</td>\n",
              "      <td>0.309777</td>\n",
              "      <td>0.890365</td>\n",
              "      <td>00:47</td>\n",
              "    </tr>\n",
              "    <tr>\n",
              "      <td>74</td>\n",
              "      <td>0.256607</td>\n",
              "      <td>0.452956</td>\n",
              "      <td>0.830565</td>\n",
              "      <td>00:47</td>\n",
              "    </tr>\n",
              "    <tr>\n",
              "      <td>75</td>\n",
              "      <td>0.246389</td>\n",
              "      <td>0.428687</td>\n",
              "      <td>0.813953</td>\n",
              "      <td>00:47</td>\n",
              "    </tr>\n",
              "    <tr>\n",
              "      <td>76</td>\n",
              "      <td>0.253386</td>\n",
              "      <td>0.425236</td>\n",
              "      <td>0.830565</td>\n",
              "      <td>00:48</td>\n",
              "    </tr>\n",
              "    <tr>\n",
              "      <td>77</td>\n",
              "      <td>0.239970</td>\n",
              "      <td>0.311144</td>\n",
              "      <td>0.870432</td>\n",
              "      <td>00:48</td>\n",
              "    </tr>\n",
              "    <tr>\n",
              "      <td>78</td>\n",
              "      <td>0.249978</td>\n",
              "      <td>0.456349</td>\n",
              "      <td>0.823920</td>\n",
              "      <td>00:47</td>\n",
              "    </tr>\n",
              "    <tr>\n",
              "      <td>79</td>\n",
              "      <td>0.233226</td>\n",
              "      <td>0.324437</td>\n",
              "      <td>0.863787</td>\n",
              "      <td>00:47</td>\n",
              "    </tr>\n",
              "    <tr>\n",
              "      <td>80</td>\n",
              "      <td>0.222767</td>\n",
              "      <td>0.532903</td>\n",
              "      <td>0.774086</td>\n",
              "      <td>00:47</td>\n",
              "    </tr>\n",
              "    <tr>\n",
              "      <td>81</td>\n",
              "      <td>0.226560</td>\n",
              "      <td>0.294511</td>\n",
              "      <td>0.883721</td>\n",
              "      <td>00:47</td>\n",
              "    </tr>\n",
              "    <tr>\n",
              "      <td>82</td>\n",
              "      <td>0.217926</td>\n",
              "      <td>0.320549</td>\n",
              "      <td>0.873754</td>\n",
              "      <td>00:48</td>\n",
              "    </tr>\n",
              "    <tr>\n",
              "      <td>83</td>\n",
              "      <td>0.214837</td>\n",
              "      <td>0.336421</td>\n",
              "      <td>0.877076</td>\n",
              "      <td>00:47</td>\n",
              "    </tr>\n",
              "    <tr>\n",
              "      <td>84</td>\n",
              "      <td>0.211861</td>\n",
              "      <td>0.327554</td>\n",
              "      <td>0.873754</td>\n",
              "      <td>00:47</td>\n",
              "    </tr>\n",
              "    <tr>\n",
              "      <td>85</td>\n",
              "      <td>0.214617</td>\n",
              "      <td>0.324499</td>\n",
              "      <td>0.863787</td>\n",
              "      <td>00:48</td>\n",
              "    </tr>\n",
              "    <tr>\n",
              "      <td>86</td>\n",
              "      <td>0.203422</td>\n",
              "      <td>0.322501</td>\n",
              "      <td>0.877076</td>\n",
              "      <td>00:47</td>\n",
              "    </tr>\n",
              "    <tr>\n",
              "      <td>87</td>\n",
              "      <td>0.200805</td>\n",
              "      <td>0.331731</td>\n",
              "      <td>0.877076</td>\n",
              "      <td>00:47</td>\n",
              "    </tr>\n",
              "    <tr>\n",
              "      <td>88</td>\n",
              "      <td>0.193349</td>\n",
              "      <td>0.303634</td>\n",
              "      <td>0.870432</td>\n",
              "      <td>00:47</td>\n",
              "    </tr>\n",
              "    <tr>\n",
              "      <td>89</td>\n",
              "      <td>0.197475</td>\n",
              "      <td>0.286122</td>\n",
              "      <td>0.897010</td>\n",
              "      <td>00:47</td>\n",
              "    </tr>\n",
              "    <tr>\n",
              "      <td>90</td>\n",
              "      <td>0.196753</td>\n",
              "      <td>0.297805</td>\n",
              "      <td>0.880399</td>\n",
              "      <td>00:47</td>\n",
              "    </tr>\n",
              "    <tr>\n",
              "      <td>91</td>\n",
              "      <td>0.197013</td>\n",
              "      <td>0.299791</td>\n",
              "      <td>0.880399</td>\n",
              "      <td>00:47</td>\n",
              "    </tr>\n",
              "    <tr>\n",
              "      <td>92</td>\n",
              "      <td>0.190730</td>\n",
              "      <td>0.305632</td>\n",
              "      <td>0.880399</td>\n",
              "      <td>00:47</td>\n",
              "    </tr>\n",
              "    <tr>\n",
              "      <td>93</td>\n",
              "      <td>0.189366</td>\n",
              "      <td>0.314477</td>\n",
              "      <td>0.887043</td>\n",
              "      <td>00:47</td>\n",
              "    </tr>\n",
              "    <tr>\n",
              "      <td>94</td>\n",
              "      <td>0.195358</td>\n",
              "      <td>0.283343</td>\n",
              "      <td>0.887043</td>\n",
              "      <td>00:47</td>\n",
              "    </tr>\n",
              "    <tr>\n",
              "      <td>95</td>\n",
              "      <td>0.189037</td>\n",
              "      <td>0.292271</td>\n",
              "      <td>0.883721</td>\n",
              "      <td>00:47</td>\n",
              "    </tr>\n",
              "    <tr>\n",
              "      <td>96</td>\n",
              "      <td>0.187527</td>\n",
              "      <td>0.291408</td>\n",
              "      <td>0.890365</td>\n",
              "      <td>00:48</td>\n",
              "    </tr>\n",
              "    <tr>\n",
              "      <td>97</td>\n",
              "      <td>0.181637</td>\n",
              "      <td>0.289151</td>\n",
              "      <td>0.887043</td>\n",
              "      <td>00:47</td>\n",
              "    </tr>\n",
              "    <tr>\n",
              "      <td>98</td>\n",
              "      <td>0.189593</td>\n",
              "      <td>0.294675</td>\n",
              "      <td>0.887043</td>\n",
              "      <td>00:48</td>\n",
              "    </tr>\n",
              "    <tr>\n",
              "      <td>99</td>\n",
              "      <td>0.193425</td>\n",
              "      <td>0.287664</td>\n",
              "      <td>0.883721</td>\n",
              "      <td>00:48</td>\n",
              "    </tr>\n",
              "  </tbody>\n",
              "</table>"
            ],
            "text/plain": [
              "<IPython.core.display.HTML object>"
            ]
          },
          "metadata": {
            "tags": []
          }
        }
      ]
    },
    {
      "cell_type": "code",
      "metadata": {
        "colab": {
          "base_uri": "https://localhost:8080/",
          "height": 279
        },
        "id": "QrADd1u0y_ZN",
        "outputId": "5e828c32-5db9-444b-c98c-ab62d96ea61c"
      },
      "source": [
        "#This code is from Ozturk T, Talo M, Yildirim EA, Baloglu UB, Yildirim O, Acharya UR. Automated detection of COVID-19 cases using deep neural networks with X-ray images. Computers in biology and medicine. 2020 Jun 1;121:103792.\n",
        "\n",
        "#plots the train and validation loss after all of the training is over\n",
        "learn.recorder.plot_losses()"
      ],
      "execution_count": null,
      "outputs": [
        {
          "output_type": "display_data",
          "data": {
            "image/png": "[encoded data removed]",
            "text/plain": [
              "<Figure size 432x288 with 1 Axes>"
            ]
          },
          "metadata": {
            "tags": [],
            "needs_background": "light"
          }
        }
      ]
    },
    {
      "cell_type": "code",
      "metadata": {
        "colab": {
          "base_uri": "https://localhost:8080/",
          "height": 17
        },
        "id": "lYAl0xO-zDc4",
        "outputId": "9780963d-afc6-48d6-b2be-c4711d7c3711"
      },
      "source": [
        "#This code is from Ozturk T, Talo M, Yildirim EA, Baloglu UB, Yildirim O, Acharya UR. Automated detection of COVID-19 cases using deep neural networks with X-ray images. Computers in biology and medicine. 2020 Jun 1;121:103792.\n",
        "\n",
        "#run the validation data through the model\n",
        "probs,targets = learn.get_preds(ds_type=DatasetType.Valid) # Predicting without TTA"
      ],
      "execution_count": null,
      "outputs": [
        {
          "output_type": "display_data",
          "data": {
            "text/html": [
              ""
            ],
            "text/plain": [
              "<IPython.core.display.HTML object>"
            ]
          },
          "metadata": {
            "tags": []
          }
        }
      ]
    },
    {
      "cell_type": "code",
      "metadata": {
        "colab": {
          "base_uri": "https://localhost:8080/"
        },
        "id": "nC5KMBAnzEJC",
        "outputId": "9d219b20-a0ec-458b-fa9f-1c7a6e2bf978"
      },
      "source": [
        "#This code is from Ozturk T, Talo M, Yildirim EA, Baloglu UB, Yildirim O, Acharya UR. Automated detection of COVID-19 cases using deep neural networks with X-ray images. Computers in biology and medicine. 2020 Jun 1;121:103792.\n",
        "\n",
        "#show the accuracy of the probs and targets \n",
        "accuracy(probs,targets)"
      ],
      "execution_count": null,
      "outputs": [
        {
          "output_type": "execute_result",
          "data": {
            "text/plain": [
              "tensor(0.8837)"
            ]
          },
          "metadata": {
            "tags": []
          },
          "execution_count": 25
        }
      ]
    },
    {
      "cell_type": "code",
      "metadata": {
        "colab": {
          "base_uri": "https://localhost:8080/"
        },
        "id": "ObiUSWPXzLKe",
        "outputId": "d696f862-e6ea-4ac8-ec15-b597137a9ce2"
      },
      "source": [
        "#This code is from Ozturk T, Talo M, Yildirim EA, Baloglu UB, Yildirim O, Acharya UR. Automated detection of COVID-19 cases using deep neural networks with X-ray images. Computers in biology and medicine. 2020 Jun 1;121:103792.\n",
        "\n",
        "#This code gets the label from each class from the probs array \n",
        "probs = np.argmax(probs, axis=1)\n",
        "\n",
        "#determine how many labels correctly match \n",
        "correct = 0\n",
        "for idx, pred in enumerate(probs):\n",
        "    if pred == targets[idx]:\n",
        "        correct += 1\n",
        "accuracy = correct / len(probs)\n",
        "print(len(probs), correct, accuracy)\n",
        "\n",
        "#display confusion matrix\n",
        "from sklearn.metrics import confusion_matrix\n",
        "np.set_printoptions(threshold=np.inf) # shows whole confusion matrix\n",
        "cm1 = confusion_matrix(targets, probs)\n",
        "print(cm1)\n",
        "\n",
        "#display classification report with the three class labels\n",
        "from sklearn.metrics import classification_report\n",
        "y_true1 = targets\n",
        "y_pred1 = probs\n",
        "target_names = ['Covid-19', 'No_findings', 'Pneumonia']\n",
        "print(classification_report(y_true1, y_pred1, target_names=target_names))\n",
        "\n",
        "#show macro precision\n",
        "from sklearn.metrics import precision_score\n",
        "print('Precision',precision_score(y_true1, y_pred1, average='macro'))\n",
        "\n",
        "# show the macro f1 score \n",
        "from sklearn.metrics import f1_score\n",
        "print('F1-score',f1_score(y_true1, y_pred1, average='macro'))"
      ],
      "execution_count": null,
      "outputs": [
        {
          "output_type": "stream",
          "text": [
            "301 266 0.8837209302325582\n",
            "[[93  1  6]\n",
            " [ 0 84 16]\n",
            " [ 0 12 89]]\n",
            "              precision    recall  f1-score   support\n",
            "\n",
            "    Covid-19       1.00      0.93      0.96       100\n",
            " No_findings       0.87      0.84      0.85       100\n",
            "   Pneumonia       0.80      0.88      0.84       101\n",
            "\n",
            "    accuracy                           0.88       301\n",
            "   macro avg       0.89      0.88      0.89       301\n",
            "weighted avg       0.89      0.88      0.89       301\n",
            "\n",
            "Precision 0.8892603944150336\n",
            "F1-score 0.8853816965434032\n"
          ],
          "name": "stdout"
        }
      ]
    },
    {
      "cell_type": "code",
      "metadata": {
        "colab": {
          "base_uri": "https://localhost:8080/",
          "height": 17
        },
        "id": "giheJ6qwzLzs",
        "outputId": "a81e7dd2-9c57-4106-f384-01e385a79680"
      },
      "source": [
        "#This code is from Ozturk T, Talo M, Yildirim EA, Baloglu UB, Yildirim O, Acharya UR. Automated detection of COVID-19 cases using deep neural networks with X-ray images. Computers in biology and medicine. 2020 Jun 1;121:103792.\n",
        "\n",
        "#creates an interpreter object of the validation data from the model \n",
        "interp = ClassificationInterpretation.from_learner(learn)"
      ],
      "execution_count": null,
      "outputs": [
        {
          "output_type": "display_data",
          "data": {
            "text/html": [
              ""
            ],
            "text/plain": [
              "<IPython.core.display.HTML object>"
            ]
          },
          "metadata": {
            "tags": []
          }
        }
      ]
    },
    {
      "cell_type": "code",
      "metadata": {
        "colab": {
          "base_uri": "https://localhost:8080/",
          "height": 311
        },
        "id": "sRgKZt5QzQmu",
        "outputId": "7a802871-0411-44d0-ab37-5d1e75eb1ec4"
      },
      "source": [
        "#This code is from Ozturk T, Talo M, Yildirim EA, Baloglu UB, Yildirim O, Acharya UR. Automated detection of COVID-19 cases using deep neural networks with X-ray images. Computers in biology and medicine. 2020 Jun 1;121:103792.\n",
        "\n",
        "#display the confusion matrix of the validation data \n",
        "cm_fig = interp.plot_confusion_matrix(return_fig=True)\n",
        "ax = cm_fig.gca()\n",
        "ax.set_ylim(interp.data.c - .5, - .5);"
      ],
      "execution_count": null,
      "outputs": [
        {
          "output_type": "display_data",
          "data": {
            "image/png": "[encoded data removed]",
            "text/plain": [
              "<Figure size 432x288 with 1 Axes>"
            ]
          },
          "metadata": {
            "tags": [],
            "needs_background": "light"
          }
        }
      ]
    }
  ]
}